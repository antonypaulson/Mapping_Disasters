{
 "cells": [
  {
   "cell_type": "markdown",
   "metadata": {},
   "source": [
    "# 1.1: Pull tweets- #campfire"
   ]
  },
  {
   "cell_type": "markdown",
   "metadata": {},
   "source": [
    "Pull Old tweets based hashtag and timestamp.  \n",
    "Please add keys, label and number of twitter based on below comments accordingly."
   ]
  },
  {
   "cell_type": "code",
   "execution_count": 310,
   "metadata": {},
   "outputs": [],
   "source": [
    "from TwitterAPI import TwitterAPI\n",
    "import json\n",
    "\n",
    "import pandas as pd\n",
    "import time"
   ]
  },
  {
   "cell_type": "code",
   "execution_count": 356,
   "metadata": {},
   "outputs": [],
   "source": [
    "# put twitter keys here\n",
    "consumer_key=''\n",
    "consumer_secret=''\n",
    "access_token_key=''\n",
    "access_token_secret=''"
   ]
  },
  {
   "cell_type": "code",
   "execution_count": 360,
   "metadata": {},
   "outputs": [],
   "source": [
    "# put params here\n",
    "# crateria example:'lang:en point_radius:[-95.36 29.76 25mi] (trapped OR rescue OR sos OR flood OR drowning)'\n",
    "\n",
    "# pull tweets about campfire\n",
    "params = {\n",
    "    'query':'lang:en (#campfire)',\n",
    "    'fromDate':'201811070000',\n",
    "    'toDate':'201901310000'\n",
    "}"
   ]
  },
  {
   "cell_type": "code",
   "execution_count": 316,
   "metadata": {},
   "outputs": [],
   "source": [
    "# functions used to pull call API multiple times\n",
    "\n",
    "api = TwitterAPI(consumer_key=consumer_key,\n",
    "                 consumer_secret=consumer_secret,\n",
    "                 access_token_key=access_token_key,\n",
    "                 access_token_secret=access_token_secret)\n",
    "\n",
    "def _get_tweet_count(found_tweets):\n",
    "    return len(set(tweet['id'] for tweet in found_tweets))\n",
    "\n",
    "def search(api, params, next_key=None):\n",
    "    PRODUCT = 'fullarchive'\n",
    "    LABEL = '' # This is specific to your application\n",
    "               # i.e. whatever label you set for your Dev environment, and is case sensitive\n",
    "    if next_key:\n",
    "        params['next']= next_key\n",
    "    r = api.request('tweets/search/%s/:%s' % (PRODUCT, LABEL), params)\n",
    "    print(r.json().keys())\n",
    "    try:\n",
    "        results = r.json()['results']\n",
    "    except:\n",
    "        print(r.json())\n",
    "        return None, None\n",
    "    try:\n",
    "        next_new = r.json()['next']\n",
    "    except:\n",
    "        return results, None\n",
    "    return results, next_new\n",
    "\n",
    "def search_tweets(api, params, counts):\n",
    "#     results = []\n",
    "    global results\n",
    "    MAX_COUNTER = 50 # number of times running api\n",
    "    query_counter = 0\n",
    "    tweet_counter = 0\n",
    "    next_key = ''\n",
    "    while len(results) < counts and query_counter <= MAX_COUNTER:\n",
    "        result, next_key = search(api, params, next_key)\n",
    "        print('got %s results' % str(len(result)))\n",
    "        print('Next: %s' % next_key)\n",
    "        results.extend(result)\n",
    "        query_counter += 1\n",
    "        if _get_tweet_count(results) == tweet_counter:\n",
    "            break\n",
    "        if next_key == None:\n",
    "            break\n",
    "        tweet_counter = _get_tweet_count(results)\n",
    "        time.sleep(2)\n",
    "    return results"
   ]
  },
  {
   "cell_type": "code",
   "execution_count": 361,
   "metadata": {
    "scrolled": false
   },
   "outputs": [
    {
     "name": "stdout",
     "output_type": "stream",
     "text": [
      "dict_keys(['results', 'next', 'requestParameters'])\n",
      "got 100 results\n",
      "Next: eyJhdXRoZW50aWNpdHkiOiIzOTA3YjZiMzIyOGM4NWFkZjUzYTFkZDViMTJlOWQwZWI5ZmFiZDQyYjUxM2I3NDY0NWQ0YWZmNDgxMGI2Njc2IiwiZnJvbURhdGUiOiIyMDE4MTEwNzAwMDAiLCJ0b0RhdGUiOiIyMDE5MDEzMTAwMDAiLCJuZXh0IjoiMjAxOTAxMzEwMDAwMDAtMTA5MDczNDM2NTg1ODkwNjExMi0wIn0=\n",
      "dict_keys(['results', 'next', 'requestParameters'])\n",
      "got 100 results\n",
      "Next: eyJhdXRoZW50aWNpdHkiOiJiOGUzMWYxNWEwZmRmNDQ0NTkzMTQ2MTAxNGJkZDRjMTY4MTEyNjU0MTJjNzljNDg4YjEwMTY1YzE1ZGU3MjY1IiwiZnJvbURhdGUiOiIyMDE4MTEwNzAwMDAiLCJ0b0RhdGUiOiIyMDE5MDEzMTAwMDAiLCJuZXh0IjoiMjAxOTAxMzEwMDAwMDAtMTA5MDcxNTM0OTgxNTcwOTY5Ni0wIn0=\n",
      "dict_keys(['results', 'next', 'requestParameters'])\n",
      "got 100 results\n",
      "Next: eyJhdXRoZW50aWNpdHkiOiJkYWJlNDU5Y2JlMDA1NWU4OWNjMmY1YmU4ZTJhMzUwMTFiMWY4YzBhYjE3N2VkMDc4NDM3MWNjZDY4MDkxMzIzIiwiZnJvbURhdGUiOiIyMDE4MTEwNzAwMDAiLCJ0b0RhdGUiOiIyMDE5MDEzMTAwMDAiLCJuZXh0IjoiMjAxOTAxMzEwMDAwMDAtMTA5MDY4Nzg2ODEzMTg5MzI0OC0wIn0=\n",
      "dict_keys(['results', 'next', 'requestParameters'])\n",
      "got 100 results\n",
      "Next: eyJhdXRoZW50aWNpdHkiOiJlMWZiMjc4ZWRhNTYzY2VhMDlkN2U4ODA0ZTBhNGNkNzEwYTRjMmE4NTFiZjgxMGJhMzFhNWQzYzkwNmM1MGZkIiwiZnJvbURhdGUiOiIyMDE4MTEwNzAwMDAiLCJ0b0RhdGUiOiIyMDE5MDEzMTAwMDAiLCJuZXh0IjoiMjAxOTAxMzEwMDAwMDAtMTA5MDY1NTEzNDQ2NjQ2MTY5Ni0wIn0=\n",
      "dict_keys(['results', 'next', 'requestParameters'])\n",
      "got 100 results\n",
      "Next: eyJhdXRoZW50aWNpdHkiOiIwNDI0NjVjM2Q2M2M5YjcxMzRhZmMzMzdiM2JhYmIzMDIyZGFlMDZiYmE5NTJiOTBmYmY1ZjgxNmE5ZmYzZTY1IiwiZnJvbURhdGUiOiIyMDE4MTEwNzAwMDAiLCJ0b0RhdGUiOiIyMDE5MDEzMTAwMDAiLCJuZXh0IjoiMjAxOTAxMzEwMDAwMDAtMTA5MDYwMjA5NDc3MDQzNDA0OC0wIn0=\n",
      "dict_keys(['results', 'next', 'requestParameters'])\n",
      "got 100 results\n",
      "Next: eyJhdXRoZW50aWNpdHkiOiIzOTNmN2EwZjI5YmMyMjMyNWJiY2I3YTRjNTFjYzI3NTZhOWQ5NWY5ZDgxNmNmNzE4ZGU2NzZlZjgyNzA0ZTJmIiwiZnJvbURhdGUiOiIyMDE4MTEwNzAwMDAiLCJ0b0RhdGUiOiIyMDE5MDEzMTAwMDAiLCJuZXh0IjoiMjAxOTAxMzEwMDAwMDAtMTA5MDUwNTg0MjkwNDg1ODYyNC0wIn0=\n",
      "dict_keys(['results', 'next', 'requestParameters'])\n",
      "got 100 results\n",
      "Next: eyJhdXRoZW50aWNpdHkiOiJiZDRkMzRjZTAzNzhkMDVmNzY3YzRlNzBmOWE3N2E5ZjYwMTY2MmM5ZDM1NTU2MTNjOGIyYjlkNjJhZWM4NjU3IiwiZnJvbURhdGUiOiIyMDE4MTEwNzAwMDAiLCJ0b0RhdGUiOiIyMDE5MDEzMTAwMDAiLCJuZXh0IjoiMjAxOTAxMzEwMDAwMDAtMTA5MDQ3MTM2NTY2NzI0NjA4MC0wIn0=\n",
      "dict_keys(['results', 'next', 'requestParameters'])\n",
      "got 100 results\n",
      "Next: eyJhdXRoZW50aWNpdHkiOiJiNDgyMzZlMjkyMWE3NDE4YjZlMTZhNDdiZDA1YTgyNmVjY2FlMTZiMjE0NWE4ZjJmNDU5YzRjYWFmOWQyNzc4IiwiZnJvbURhdGUiOiIyMDE4MTEwNzAwMDAiLCJ0b0RhdGUiOiIyMDE5MDEzMTAwMDAiLCJuZXh0IjoiMjAxOTAxMzEwMDAwMDAtMTA5MDQzNTU5MzQ3NjIzMTE2OC0wIn0=\n",
      "dict_keys(['results', 'next', 'requestParameters'])\n",
      "got 100 results\n",
      "Next: eyJhdXRoZW50aWNpdHkiOiJjNmNmMDJiYjZmMzZiYmE1YzAwNmRkZDUxNTdmYzIxNzYxNTYwNTBmYzRmODEwNWViZmUyMjdkZGE3M2E4N2I1IiwiZnJvbURhdGUiOiIyMDE4MTEwNzAwMDAiLCJ0b0RhdGUiOiIyMDE5MDEzMTAwMDAiLCJuZXh0IjoiMjAxOTAxMzEwMDAwMDAtMTA5MDM4ODM4NzI3MjQzNzc2MC0wIn0=\n",
      "dict_keys(['results', 'next', 'requestParameters'])\n",
      "got 100 results\n",
      "Next: eyJhdXRoZW50aWNpdHkiOiIxYjU5NDU5ZDVmYTgyNTg1NmUyNGI3NzA5MjAzNGM0MzQ2NDczMGY0NWEyOTY5ODkxNWZlMTkzZDhkNTQ0NmZhIiwiZnJvbURhdGUiOiIyMDE4MTEwNzAwMDAiLCJ0b0RhdGUiOiIyMDE5MDEzMTAwMDAiLCJuZXh0IjoiMjAxOTAxMzEwMDAwMDAtMTA5MDM1NTE1MTE5MjM3MTIwMi0wIn0=\n",
      "dict_keys(['results', 'next', 'requestParameters'])\n",
      "got 100 results\n",
      "Next: eyJhdXRoZW50aWNpdHkiOiIyYmFmOTcwMjg4NDljZjg5YTc0NDllYThmNGUxZTEyZTc0MTU2ZjNjYjY2MTI1NDUwZTA4MDZiMWNhMWEyZjlkIiwiZnJvbURhdGUiOiIyMDE4MTEwNzAwMDAiLCJ0b0RhdGUiOiIyMDE5MDEzMTAwMDAiLCJuZXh0IjoiMjAxOTAxMzEwMDAwMDAtMTA5MDI5NzU0NjIwNTk0NTg1Ny0wIn0=\n",
      "dict_keys(['results', 'next', 'requestParameters'])\n",
      "got 100 results\n",
      "Next: eyJhdXRoZW50aWNpdHkiOiIyMGRmMThiNTA4YmJmZDUzNTdmNmEzYzEzNWI0ZWM1MDMyMjdmOGUwZDJlNDlmZjU5M2QzZWY1NDY3ZTQ5ZWQzIiwiZnJvbURhdGUiOiIyMDE4MTEwNzAwMDAiLCJ0b0RhdGUiOiIyMDE5MDEzMTAwMDAiLCJuZXh0IjoiMjAxOTAxMzEwMDAwMDAtMTA5MDI2NTc3ODg5NTUxNTY0OC0wIn0=\n",
      "dict_keys(['results', 'next', 'requestParameters'])\n",
      "got 100 results\n",
      "Next: eyJhdXRoZW50aWNpdHkiOiJlZTFlZTFlOTU4NGI1ZTIyMGJkM2FiMWM5ZjJlYjRhNWIzMGQzYmVmOTRkMGY5MjAzMThlODk0ODg3YjcyNGE0IiwiZnJvbURhdGUiOiIyMDE4MTEwNzAwMDAiLCJ0b0RhdGUiOiIyMDE5MDEzMTAwMDAiLCJuZXh0IjoiMjAxOTAxMzEwMDAwMDAtMTA5MDE4MjI2MDA1MTk1NTcxOC0wIn0=\n",
      "dict_keys(['results', 'next', 'requestParameters'])\n",
      "got 100 results\n",
      "Next: eyJhdXRoZW50aWNpdHkiOiJjZGRkZWRlZTA1OTFkMjE3MGFkYWRhMTczNjdiN2JiYmIwOTMyMjdjNjBjZGQ2MmRjNmI5ZTAzNGQxOGM5MzgyIiwiZnJvbURhdGUiOiIyMDE4MTEwNzAwMDAiLCJ0b0RhdGUiOiIyMDE5MDEzMTAwMDAiLCJuZXh0IjoiMjAxOTAxMzEwMDAwMDAtMTA5MDEyODE5OTUwNDIxMTk2OC0wIn0=\n",
      "dict_keys(['results', 'next', 'requestParameters'])\n",
      "got 100 results\n",
      "Next: eyJhdXRoZW50aWNpdHkiOiI0NmJjOTBhYmVlMDUyZDUyNTNjNDIzNGE4NGE0YjAwMDU1MmNmZTliNTMyMmIzMjI2OTIwZjUwMWFkNzgxNmU2IiwiZnJvbURhdGUiOiIyMDE4MTEwNzAwMDAiLCJ0b0RhdGUiOiIyMDE5MDEzMTAwMDAiLCJuZXh0IjoiMjAxOTAxMzEwMDAwMDAtMTA5MDA5ODYxNzE4NzEwMjcyMi0wIn0=\n",
      "dict_keys(['results', 'next', 'requestParameters'])\n",
      "got 100 results\n",
      "Next: eyJhdXRoZW50aWNpdHkiOiI5YTRmZjZlNWM5YzZiY2I5ZTIwNzM0YzA4MzJhMjUyYTI2ZmZhNGMxNTA0NjJmNzAyYzBiYTA4ZjI1NWQ5N2I1IiwiZnJvbURhdGUiOiIyMDE4MTEwNzAwMDAiLCJ0b0RhdGUiOiIyMDE5MDEzMTAwMDAiLCJuZXh0IjoiMjAxOTAxMzEwMDAwMDAtMTA5MDA3OTcwODU3MjY1OTcxMi0wIn0=\n",
      "dict_keys(['results', 'next', 'requestParameters'])\n",
      "got 100 results\n",
      "Next: eyJhdXRoZW50aWNpdHkiOiIzYWE5YzIwMzdhZmQxMTI3ZGRiYmIxMjgyY2IwZWNmNDg5YjVjZTIzYjI4Mzc4MjBiM2NjN2NkYjIwN2NlODg2IiwiZnJvbURhdGUiOiIyMDE4MTEwNzAwMDAiLCJ0b0RhdGUiOiIyMDE5MDEzMTAwMDAiLCJuZXh0IjoiMjAxOTAxMzEwMDAwMDAtMTA5MDA2ODM3MTEwMDU3MzY5Ny0wIn0=\n",
      "dict_keys(['results', 'next', 'requestParameters'])\n",
      "got 100 results\n",
      "Next: eyJhdXRoZW50aWNpdHkiOiJmNzQ0Nzc3ZWRlOGExMGU5MGI5M2M0MGU3NzE5YmJkODU0ZDhkOTA2N2VhZmMxZGZkNzYyOGVkZDI4MDdkM2ZmIiwiZnJvbURhdGUiOiIyMDE4MTEwNzAwMDAiLCJ0b0RhdGUiOiIyMDE5MDEzMTAwMDAiLCJuZXh0IjoiMjAxOTAxMzEwMDAwMDAtMTA5MDA0NjI1NDMyNTc1NTkwNC0wIn0=\n",
      "dict_keys(['results', 'next', 'requestParameters'])\n",
      "got 100 results\n",
      "Next: eyJhdXRoZW50aWNpdHkiOiJkYThlNjg0ZTVhMGE5ZjkzMzY1ZTY3YmVmNzI0ZWU4N2E0YTM2Yjc2NzVkZDgyZWJhMzY5MjBiNDM4ODA4YWQyIiwiZnJvbURhdGUiOiIyMDE4MTEwNzAwMDAiLCJ0b0RhdGUiOiIyMDE5MDEzMTAwMDAiLCJuZXh0IjoiMjAxOTAxMzEwMDAwMDAtMTA5MDAyOTEwMDEyNTcxMjM4NC0wIn0=\n",
      "dict_keys(['results', 'next', 'requestParameters'])\n",
      "got 100 results\n",
      "Next: eyJhdXRoZW50aWNpdHkiOiJlYzMwYzc0NDY0MDg4YTc2N2ViYTY1NWRlN2YzMjk1MTkwMzk2ZDI4ZDE2MDUwOTA4NDY1OTMwMTZjNDk5N2NjIiwiZnJvbURhdGUiOiIyMDE4MTEwNzAwMDAiLCJ0b0RhdGUiOiIyMDE5MDEzMTAwMDAiLCJuZXh0IjoiMjAxOTAxMzEwMDAwMDAtMTA5MDAxNTAyNDQ3MzY5NDIwOC0wIn0=\n",
      "dict_keys(['results', 'next', 'requestParameters'])\n",
      "got 99 results\n",
      "Next: eyJhdXRoZW50aWNpdHkiOiJkZDhmNjEwMzI5MTljZThiYTU1NTcyZmVjYzMzOWY2NTMzZWViYzkwYWI2YjBhOTEyNmMwODUyNWU4ODAwNGNjIiwiZnJvbURhdGUiOiIyMDE4MTEwNzAwMDAiLCJ0b0RhdGUiOiIyMDE5MDEzMTAwMDAiLCJuZXh0IjoiMjAxOTAxMzEwMDAwMDAtMTA4OTk3NTY5MzIwNTc5NDgxNi0wIn0=\n"
     ]
    }
   ],
   "source": [
    "# use above functions\n",
    "# 4000 is the number of the tweets we gonna get\n",
    "results = []\n",
    "test_results = search_tweets(api, params, 4000)"
   ]
  },
  {
   "cell_type": "code",
   "execution_count": 362,
   "metadata": {},
   "outputs": [],
   "source": [
    "# save test_results in json format\n",
    "with open('./data/campfire_results.json', 'w') as f:\n",
    "    json.dump(test_results, f)"
   ]
  },
  {
   "cell_type": "code",
   "execution_count": 363,
   "metadata": {},
   "outputs": [],
   "source": [
    "# Info pulled from tweets\n",
    "USEFUL_INFO_KEYS = ['created_at', 'text', 'longitute', 'latitute', 'retweet_count', 'favorite_count', 'hashtags']\n",
    "\n",
    "def extract_tweets(tweets):\n",
    "    result = []\n",
    "    for tweet in tweets:\n",
    "        info = {}\n",
    "        for key in USEFUL_INFO_KEYS:\n",
    "            if key == 'hashtags':\n",
    "                info[key] = [i['text'] for i in tweet['entities']['hashtags']]\n",
    "            elif key == 'longitute':\n",
    "                try:\n",
    "                    info[key] = tweet['coordinates']['coordinates'][0]\n",
    "                except TypeError:\n",
    "                    pass\n",
    "            elif key == 'latitute':\n",
    "                try:\n",
    "                    info[key] = tweet['coordinates']['coordinates'][1]\n",
    "                except TypeError:\n",
    "                    pass\n",
    "            else:\n",
    "                info[key] = tweet[key]\n",
    "        result.append(info)\n",
    "    return result"
   ]
  },
  {
   "cell_type": "code",
   "execution_count": 364,
   "metadata": {},
   "outputs": [],
   "source": [
    "# convert results into dataframe\n",
    "extracted_test = extract_tweets(test_results)\n",
    "df_campfire = pd.DataFrame(extracted_test)"
   ]
  },
  {
   "cell_type": "code",
   "execution_count": 2,
   "metadata": {},
   "outputs": [],
   "source": [
    "# save dataframe as csv\n",
    "df_campfire.to_csv('./data/campfire_data.csv',index=False)"
   ]
  },
  {
   "cell_type": "code",
   "execution_count": 368,
   "metadata": {},
   "outputs": [
    {
     "data": {
      "text/plain": [
       "(2099, 7)"
      ]
     },
     "execution_count": 368,
     "metadata": {},
     "output_type": "execute_result"
    }
   ],
   "source": [
    "df_campfire.shape"
   ]
  },
  {
   "cell_type": "code",
   "execution_count": null,
   "metadata": {},
   "outputs": [],
   "source": []
  }
 ],
 "metadata": {
  "kernelspec": {
   "display_name": "Python 3",
   "language": "python",
   "name": "python3"
  },
  "language_info": {
   "codemirror_mode": {
    "name": "ipython",
    "version": 3
   },
   "file_extension": ".py",
   "mimetype": "text/x-python",
   "name": "python",
   "nbconvert_exporter": "python",
   "pygments_lexer": "ipython3",
   "version": "3.7.3"
  }
 },
 "nbformat": 4,
 "nbformat_minor": 2
}
