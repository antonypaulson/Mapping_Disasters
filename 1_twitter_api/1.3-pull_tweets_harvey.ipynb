{
 "cells": [
  {
   "cell_type": "markdown",
   "metadata": {},
   "source": [
    "# 1.3: Pull tweets- #harvey"
   ]
  },
  {
   "cell_type": "markdown",
   "metadata": {},
   "source": [
    "Pull Old tweets based hashtag and timestamp.  \n",
    "Please add keys, label and number of twitter based on below comments accordingly."
   ]
  },
  {
   "cell_type": "code",
   "execution_count": 6,
   "metadata": {},
   "outputs": [],
   "source": [
    "from TwitterAPI import TwitterAPI\n",
    "import json\n",
    "\n",
    "import pandas as pd\n",
    "import time"
   ]
  },
  {
   "cell_type": "code",
   "execution_count": 7,
   "metadata": {},
   "outputs": [],
   "source": [
    "# put twitter keys here\n",
    "consumer_key=''\n",
    "consumer_secret=''\n",
    "access_token_key=''\n",
    "access_token_secret=''"
   ]
  },
  {
   "cell_type": "code",
   "execution_count": 8,
   "metadata": {},
   "outputs": [],
   "source": [
    "# put params here\n",
    "# crateria example:'lang:en point_radius:[-95.36 29.76 25mi] (trapped OR rescue OR sos OR flood OR drowning)'\n",
    "\n",
    "# pull tweets about hurricane\n",
    "params = {\n",
    "    'query':'lang:en (#hurricaneharvey)',\n",
    "    'fromDate':'201708170000',\n",
    "    'toDate':'201709020000'\n",
    "}"
   ]
  },
  {
   "cell_type": "code",
   "execution_count": 9,
   "metadata": {},
   "outputs": [],
   "source": [
    "# functions used to pull call API multiple times\n",
    "\n",
    "api = TwitterAPI(consumer_key=consumer_key,\n",
    "                 consumer_secret=consumer_secret,\n",
    "                 access_token_key=access_token_key,\n",
    "                 access_token_secret=access_token_secret)\n",
    "\n",
    "def _get_tweet_count(found_tweets):\n",
    "    return len(set(tweet['id'] for tweet in found_tweets))\n",
    "\n",
    "def search(api, params, next_key=None):\n",
    "    PRODUCT = 'fullarchive'\n",
    "    LABEL = 'assemblydisasters' # This is specific to your application\n",
    "               # i.e. whatever label you set for your Dev environment, and is case sensitive\n",
    "    if next_key:\n",
    "        params['next']= next_key\n",
    "    r = api.request('tweets/search/%s/:%s' % (PRODUCT, LABEL), params)\n",
    "    print(r.json().keys())\n",
    "    try:\n",
    "        results = r.json()['results']\n",
    "    except:\n",
    "        print(r.json())\n",
    "        return None, None\n",
    "    try:\n",
    "        next_new = r.json()['next']\n",
    "    except:\n",
    "        return results, None\n",
    "    return results, next_new\n",
    "\n",
    "def search_tweets(api, params, counts):\n",
    "#     results = []\n",
    "    global results\n",
    "    MAX_COUNTER = 50 # number of times running api\n",
    "    query_counter = 0\n",
    "    tweet_counter = 0\n",
    "    next_key = ''\n",
    "    while len(results) < counts and query_counter <= MAX_COUNTER:\n",
    "        result, next_key = search(api, params, next_key)\n",
    "        print('got %s results' % str(len(result)))\n",
    "        print('Next: %s' % next_key)\n",
    "        results.extend(result)\n",
    "        query_counter += 1\n",
    "        if _get_tweet_count(results) == tweet_counter:\n",
    "            break\n",
    "        if next_key == None:\n",
    "            break\n",
    "        tweet_counter = _get_tweet_count(results)\n",
    "        time.sleep(2)\n",
    "    return results"
   ]
  },
  {
   "cell_type": "code",
   "execution_count": 10,
   "metadata": {
    "scrolled": false
   },
   "outputs": [
    {
     "name": "stdout",
     "output_type": "stream",
     "text": [
      "dict_keys(['results', 'next', 'requestParameters'])\n",
      "got 100 results\n",
      "Next: eyJhdXRoZW50aWNpdHkiOiI5NjBhMTFkMWMwYTY1NmFkZmNkYzEwNTI4YjU0Y2MzMGJkZjU1NTJkM2I0ZThiZTE5MDBiMTcwNmU4MTZiYjllIiwiZnJvbURhdGUiOiIyMDE3MDgxNzAwMDAiLCJ0b0RhdGUiOiIyMDE3MDkwMjAwMDAiLCJuZXh0IjoiMjAxNzA5MDIwMDAwMDAtOTAzNzY5MTM1MTUwMjIzMzYwLTAifQ==\n",
      "dict_keys(['results', 'next', 'requestParameters'])\n",
      "got 100 results\n",
      "Next: eyJhdXRoZW50aWNpdHkiOiI4YjAyM2JjMmMwYjVlMTY2NjIzZmRkZjZiNDc1ZjdkODM3NWU4ZTk0MTk2N2M3NGUxMjYxMzc2MmY5NmYyYTdjIiwiZnJvbURhdGUiOiIyMDE3MDgxNzAwMDAiLCJ0b0RhdGUiOiIyMDE3MDkwMjAwMDAiLCJuZXh0IjoiMjAxNzA5MDIwMDAwMDAtOTAzNzY4Nzc2OTI3MjY4ODY1LTAifQ==\n",
      "dict_keys(['results', 'next', 'requestParameters'])\n",
      "got 99 results\n",
      "Next: eyJhdXRoZW50aWNpdHkiOiIwYjRjZGQzYzQ1NmMwMmY4MTRmMTAwOGRhNWJhMmY4NjBmMzRlMjAwODBjNTExNjZmYTIyZmFiNjY5YTYxNjI4IiwiZnJvbURhdGUiOiIyMDE3MDgxNzAwMDAiLCJ0b0RhdGUiOiIyMDE3MDkwMjAwMDAiLCJuZXh0IjoiMjAxNzA5MDIwMDAwMDAtOTAzNzY4NDc2MTI0NDE4MDQ5LTAifQ==\n",
      "dict_keys(['results', 'next', 'requestParameters'])\n",
      "got 100 results\n",
      "Next: eyJhdXRoZW50aWNpdHkiOiI5YzA5MTUxYWMzMzA3ZWVmNGU0MWRmNTg2NGVjYTRhYzAzMmM5NGRhNTUwNTA1NDY3NDQyMjdlNmFjY2M2MjZjIiwiZnJvbURhdGUiOiIyMDE3MDgxNzAwMDAiLCJ0b0RhdGUiOiIyMDE3MDkwMjAwMDAiLCJuZXh0IjoiMjAxNzA5MDIwMDAwMDAtOTAzNzY4MjE1MTUwNjEyNDgwLTAifQ==\n",
      "dict_keys(['results', 'next', 'requestParameters'])\n",
      "got 100 results\n",
      "Next: eyJhdXRoZW50aWNpdHkiOiJkYTFhNTI3MDI2MGRhNzdjZDVlYzYzYzdmZDNlNzA2NTBlOTljMTFkNzZkMTg5OGUwNTUxMTE4MjBjZWZjN2NiIiwiZnJvbURhdGUiOiIyMDE3MDgxNzAwMDAiLCJ0b0RhdGUiOiIyMDE3MDkwMjAwMDAiLCJuZXh0IjoiMjAxNzA5MDIwMDAwMDAtOTAzNzY3OTUzODQ1MzYyNjg4LTAifQ==\n",
      "dict_keys(['results', 'next', 'requestParameters'])\n",
      "got 100 results\n",
      "Next: eyJhdXRoZW50aWNpdHkiOiIxNGUwMDg1OWY4ZTFmZDczNjgzNWRhMDhmNmMxOTkwNDJlMjEyMTA1MjY5ODJmZDNlOWY3MGRiYjBkNTM0YmZhIiwiZnJvbURhdGUiOiIyMDE3MDgxNzAwMDAiLCJ0b0RhdGUiOiIyMDE3MDkwMjAwMDAiLCJuZXh0IjoiMjAxNzA5MDIwMDAwMDAtOTAzNzY3NjYyNTAwNzM3MDI1LTAifQ==\n",
      "dict_keys(['results', 'next', 'requestParameters'])\n",
      "got 100 results\n",
      "Next: eyJhdXRoZW50aWNpdHkiOiIzNThjZjU1MDk3OTRiODljOTAyMjFkYmJmYjU1MWQwNGZhMDgwMjMyOTYyMzM3NGE2MDVhYjc4NDQ1MWUxN2YxIiwiZnJvbURhdGUiOiIyMDE3MDgxNzAwMDAiLCJ0b0RhdGUiOiIyMDE3MDkwMjAwMDAiLCJuZXh0IjoiMjAxNzA5MDIwMDAwMDAtOTAzNzY3NDM3ODY2MzAzNDg4LTAifQ==\n",
      "dict_keys(['results', 'next', 'requestParameters'])\n",
      "got 100 results\n",
      "Next: eyJhdXRoZW50aWNpdHkiOiI4MDI1NDM2MTc4MzMwZTg1NWUyMTMyZTZlMTVlZTI2ZDZhMTMxODJmMzA3YmRlZGUwOGI2MWFkM2Y1M2E4NWZkIiwiZnJvbURhdGUiOiIyMDE3MDgxNzAwMDAiLCJ0b0RhdGUiOiIyMDE3MDkwMjAwMDAiLCJuZXh0IjoiMjAxNzA5MDIwMDAwMDAtOTAzNzY3MTk4MDk0ODE1MjMyLTAifQ==\n",
      "dict_keys(['results', 'next', 'requestParameters'])\n",
      "got 100 results\n",
      "Next: eyJhdXRoZW50aWNpdHkiOiI2Nzc2ZTA0MTgzYmUyMGQ1Y2QwYmQzYjkzMzY4M2RlMjg3OGIxM2EwNDQwMzIyNzg0MTUyMjlmYjE2MGQzNjE3IiwiZnJvbURhdGUiOiIyMDE3MDgxNzAwMDAiLCJ0b0RhdGUiOiIyMDE3MDkwMjAwMDAiLCJuZXh0IjoiMjAxNzA5MDIwMDAwMDAtOTAzNzY2OTQ5NjY2MTg1MjE5LTAifQ==\n",
      "dict_keys(['results', 'next', 'requestParameters'])\n",
      "got 99 results\n",
      "Next: eyJhdXRoZW50aWNpdHkiOiIwOTE1Y2FkNjk4MGM1MDU0YTc0M2Q0MzU4YzJlZTkzZWE3YTc3YWYzYWZiYWM1Njg5ZDhlOGFlMGVhODA4N2I0IiwiZnJvbURhdGUiOiIyMDE3MDgxNzAwMDAiLCJ0b0RhdGUiOiIyMDE3MDkwMjAwMDAiLCJuZXh0IjoiMjAxNzA5MDIwMDAwMDAtOTAzNzY2NzAzMjQ2NTg1ODU2LTAifQ==\n",
      "dict_keys(['results', 'next', 'requestParameters'])\n",
      "got 100 results\n",
      "Next: eyJhdXRoZW50aWNpdHkiOiJmYWY4NjhmNDc3MGZjZTUwYjJmNjUzYzRlYmQzNWRiOTczMmUxZGVhMThjZjBkZTg5ODM5NmM4NzAyOGQ0ZjA3IiwiZnJvbURhdGUiOiIyMDE3MDgxNzAwMDAiLCJ0b0RhdGUiOiIyMDE3MDkwMjAwMDAiLCJuZXh0IjoiMjAxNzA5MDIwMDAwMDAtOTAzNzY2NDY1MzE2MzU2MDk3LTAifQ==\n",
      "dict_keys(['results', 'next', 'requestParameters'])\n",
      "got 100 results\n",
      "Next: eyJhdXRoZW50aWNpdHkiOiI5MjUzNTExNWNkY2QyOGVjNGJkOTNjOGYxNzc1NWE1MjMyZTBlYzMwOTIxMGU4YzllYWJkMzc2YjVhNmY3OGM2IiwiZnJvbURhdGUiOiIyMDE3MDgxNzAwMDAiLCJ0b0RhdGUiOiIyMDE3MDkwMjAwMDAiLCJuZXh0IjoiMjAxNzA5MDIwMDAwMDAtOTAzNzY2MTg4ODMxOTMyNDE2LTAifQ==\n",
      "dict_keys(['results', 'next', 'requestParameters'])\n",
      "got 100 results\n",
      "Next: eyJhdXRoZW50aWNpdHkiOiJjZDgxMDFiYTcyZGE1NjRhOWE4NmVkMzY0NjljZmRjNDdlYTMyYzg1ZDE2YTgyNDY4Y2IwMDk4NzcxZTAzM2U3IiwiZnJvbURhdGUiOiIyMDE3MDgxNzAwMDAiLCJ0b0RhdGUiOiIyMDE3MDkwMjAwMDAiLCJuZXh0IjoiMjAxNzA5MDIwMDAwMDAtOTAzNzY1OTY4MDY4OTM1NjgwLTAifQ==\n",
      "dict_keys(['results', 'next', 'requestParameters'])\n",
      "got 100 results\n",
      "Next: eyJhdXRoZW50aWNpdHkiOiI0YjNlNjk3MDliOTVhNDMxOWNiZDdjNDhhNjliNTQ2MzJjMzZmOTc5NTE1MWEzOWFkZmJjMDJhYmMyOTQ0MTI1IiwiZnJvbURhdGUiOiIyMDE3MDgxNzAwMDAiLCJ0b0RhdGUiOiIyMDE3MDkwMjAwMDAiLCJuZXh0IjoiMjAxNzA5MDIwMDAwMDAtOTAzNzY1NzA0NzMzODQzNDU2LTAifQ==\n",
      "dict_keys(['results', 'next', 'requestParameters'])\n",
      "got 100 results\n",
      "Next: eyJhdXRoZW50aWNpdHkiOiI2ZTE0MDBhM2JhOGZjZTkwMzg4NWJiYzg0NWMzMGZmZDAxYmZjNWQyNmQ0YTM3YmY3Mzg2ZjU4M2YzMWZlODdjIiwiZnJvbURhdGUiOiIyMDE3MDgxNzAwMDAiLCJ0b0RhdGUiOiIyMDE3MDkwMjAwMDAiLCJuZXh0IjoiMjAxNzA5MDIwMDAwMDAtOTAzNzY1NDY4MTI0Nzc4NDk2LTAifQ==\n",
      "dict_keys(['results', 'next', 'requestParameters'])\n",
      "got 100 results\n",
      "Next: eyJhdXRoZW50aWNpdHkiOiJjMzRkZjE2ODc5YTdhM2M4YmFlNThiYWQ5MmRhN2ZmODI2NzFlYjJiYjI2ZGE0OWFmMzRmYmM2NDFiNzYyNjgwIiwiZnJvbURhdGUiOiIyMDE3MDgxNzAwMDAiLCJ0b0RhdGUiOiIyMDE3MDkwMjAwMDAiLCJuZXh0IjoiMjAxNzA5MDIwMDAwMDAtOTAzNzY1MjU1NDI3MzI1OTU0LTAifQ==\n",
      "dict_keys(['results', 'next', 'requestParameters'])\n",
      "got 100 results\n",
      "Next: eyJhdXRoZW50aWNpdHkiOiI0MjkwYjdlNWVlY2Q3NTg2MzQ1MmI1OGE5ZWEyZDYwZjgyNjNlYWU3MTUwNTdkZjEzZDBjMmVhODY3YTM2MjYzIiwiZnJvbURhdGUiOiIyMDE3MDgxNzAwMDAiLCJ0b0RhdGUiOiIyMDE3MDkwMjAwMDAiLCJuZXh0IjoiMjAxNzA5MDIwMDAwMDAtOTAzNzY0OTgxMzYzMDQ4NDQ4LTAifQ==\n",
      "dict_keys(['results', 'next', 'requestParameters'])\n",
      "got 99 results\n",
      "Next: eyJhdXRoZW50aWNpdHkiOiI5Yjc0ZGYwNWY5MjI2N2JkYjRkM2U1NGQzZjJiYWFkY2Y5YmIwNDllOGFkNjM5MTA0NjdkMTFmM2VmMzI3YWZkIiwiZnJvbURhdGUiOiIyMDE3MDgxNzAwMDAiLCJ0b0RhdGUiOiIyMDE3MDkwMjAwMDAiLCJuZXh0IjoiMjAxNzA5MDIwMDAwMDAtOTAzNzY0Njk4NjI1MTM0NTkzLTAifQ==\n",
      "dict_keys(['results', 'next', 'requestParameters'])\n",
      "got 100 results\n",
      "Next: eyJhdXRoZW50aWNpdHkiOiJkYzk2Y2JhNjM4NmRiM2JkZWZkN2M3OWM2N2RkYTNjNDdhY2M0M2ZkNTVkYmExMWIxMjRmMzVlZmIwZTgzNzE1IiwiZnJvbURhdGUiOiIyMDE3MDgxNzAwMDAiLCJ0b0RhdGUiOiIyMDE3MDkwMjAwMDAiLCJuZXh0IjoiMjAxNzA5MDIwMDAwMDAtOTAzNzY0NDI4NzY3ODAxMzQ0LTAifQ==\n",
      "dict_keys(['results', 'next', 'requestParameters'])\n",
      "got 100 results\n",
      "Next: eyJhdXRoZW50aWNpdHkiOiI2MmViNTQ0N2U3OGQ3Njk1OWFlZDhlMWY1YWUyZGJhNDI5NTBmOGI4ZDAwMTM0OGMwMGNmOGE0MTg1OGVmOWI4IiwiZnJvbURhdGUiOiIyMDE3MDgxNzAwMDAiLCJ0b0RhdGUiOiIyMDE3MDkwMjAwMDAiLCJuZXh0IjoiMjAxNzA5MDIwMDAwMDAtOTAzNzY0MTk0ODM4OTI1MzE0LTAifQ==\n",
      "dict_keys(['results', 'next', 'requestParameters'])\n",
      "got 100 results\n",
      "Next: eyJhdXRoZW50aWNpdHkiOiIzYjI2NTIwY2EwZWJlZDkwYmZmNjhkMjhiZjM2NmJlM2Q5YmE3YjllMjU5Y2IyOTdiZDM4NDg0OTM5MTQwNWZjIiwiZnJvbURhdGUiOiIyMDE3MDgxNzAwMDAiLCJ0b0RhdGUiOiIyMDE3MDkwMjAwMDAiLCJuZXh0IjoiMjAxNzA5MDIwMDAwMDAtOTAzNzYzOTQ2NjI4NDE5NTg0LTAifQ==\n",
      "dict_keys(['results', 'next', 'requestParameters'])\n",
      "got 99 results\n",
      "Next: eyJhdXRoZW50aWNpdHkiOiJmMzNmMGMzOWE4MjYzMzgzMDdkNzI4YmM4NTZkN2UxYjgzMGE4MDI2YzZhYWE2YWQ4ODM3NjNkOTliNTJlNjI2IiwiZnJvbURhdGUiOiIyMDE3MDgxNzAwMDAiLCJ0b0RhdGUiOiIyMDE3MDkwMjAwMDAiLCJuZXh0IjoiMjAxNzA5MDIwMDAwMDAtOTAzNzYzNzM3NzEwMDkyMjg4LTAifQ==\n",
      "dict_keys(['results', 'next', 'requestParameters'])\n",
      "got 100 results\n",
      "Next: eyJhdXRoZW50aWNpdHkiOiIxMDk4ZGQ2MjEyZWNmMTQ2Y2JiNmFlNmQ0YTAyYjhhNjBmOGYwYzk0YjM5YmNlZDA5YzM5Yzk1YTA4MzA1ZjAzIiwiZnJvbURhdGUiOiIyMDE3MDgxNzAwMDAiLCJ0b0RhdGUiOiIyMDE3MDkwMjAwMDAiLCJuZXh0IjoiMjAxNzA5MDIwMDAwMDAtOTAzNzYzNTEyMDgxNjkwNjI1LTAifQ==\n",
      "dict_keys(['results', 'next', 'requestParameters'])\n",
      "got 100 results\n",
      "Next: eyJhdXRoZW50aWNpdHkiOiIzY2RjNTdlZDE1ZTZjOWYzYzA3Y2Q2NjExNmFjOTcwODU5NjRmZTljY2FhOGMyNGRiN2ZlYzE4Yzc4YjI3YzhmIiwiZnJvbURhdGUiOiIyMDE3MDgxNzAwMDAiLCJ0b0RhdGUiOiIyMDE3MDkwMjAwMDAiLCJuZXh0IjoiMjAxNzA5MDIwMDAwMDAtOTAzNzYzMjY2MTIzNTU4OTEyLTAifQ==\n",
      "dict_keys(['results', 'next', 'requestParameters'])\n",
      "got 100 results\n",
      "Next: eyJhdXRoZW50aWNpdHkiOiIxNmQ2ZjJkYWRlY2EwY2YyNzczNzJiMDU4MzdmYzgwOTQ4Nzg3YjI3ZmY3ZTgxMzZlYTAwMTI4MzdhODQ4NDAzIiwiZnJvbURhdGUiOiIyMDE3MDgxNzAwMDAiLCJ0b0RhdGUiOiIyMDE3MDkwMjAwMDAiLCJuZXh0IjoiMjAxNzA5MDIwMDAwMDAtOTAzNzYzMDA1OTE3MzM1NTUyLTAifQ==\n",
      "dict_keys(['results', 'next', 'requestParameters'])\n",
      "got 100 results\n",
      "Next: eyJhdXRoZW50aWNpdHkiOiIwYWY3NWJhOTVjYjYxMjgwN2M1OTljZTM2MTFiODkxYzhiOTI0YjFhN2JjZDljYjEyNWNiYmJhMGExMjI2MzhkIiwiZnJvbURhdGUiOiIyMDE3MDgxNzAwMDAiLCJ0b0RhdGUiOiIyMDE3MDkwMjAwMDAiLCJuZXh0IjoiMjAxNzA5MDIwMDAwMDAtOTAzNzYyNzk2MTE0MDQyODgwLTAifQ==\n",
      "dict_keys(['results', 'next', 'requestParameters'])\n",
      "got 100 results\n",
      "Next: eyJhdXRoZW50aWNpdHkiOiJiYWU3MWY1MTAwOThlYTgzMDQ3OGEwNGVmYzg2NmM5MGZhMzZhNmU4MzE0YjBlOWIwYzYzN2EyNTNkODQ2OGNhIiwiZnJvbURhdGUiOiIyMDE3MDgxNzAwMDAiLCJ0b0RhdGUiOiIyMDE3MDkwMjAwMDAiLCJuZXh0IjoiMjAxNzA5MDIwMDAwMDAtOTAzNzYyNTUyMDAxMzIzMDA5LTAifQ==\n"
     ]
    },
    {
     "name": "stdout",
     "output_type": "stream",
     "text": [
      "dict_keys(['results', 'next', 'requestParameters'])\n",
      "got 100 results\n",
      "Next: eyJhdXRoZW50aWNpdHkiOiJiYTEwNTk0ZDVlY2NhMTZlMTY2MDhmZjM5MGE4NmQxZDYzNGMxZjQ5Yjk0ZWZmNmJhY2YzYjkyNTZjZmRjZjZhIiwiZnJvbURhdGUiOiIyMDE3MDgxNzAwMDAiLCJ0b0RhdGUiOiIyMDE3MDkwMjAwMDAiLCJuZXh0IjoiMjAxNzA5MDIwMDAwMDAtOTAzNzYyMzM5NDc1OTY4MDAwLTAifQ==\n",
      "dict_keys(['results', 'next', 'requestParameters'])\n",
      "got 100 results\n",
      "Next: eyJhdXRoZW50aWNpdHkiOiIwOTIzYjZmMWFlNzA1NDdjZDY5ZjVhYjYzZTA3NDdkMmNlZjAyMTE2MjdmNDUxNjc5MmVlNzIzNGYzMzc2Zjg0IiwiZnJvbURhdGUiOiIyMDE3MDgxNzAwMDAiLCJ0b0RhdGUiOiIyMDE3MDkwMjAwMDAiLCJuZXh0IjoiMjAxNzA5MDIwMDAwMDAtOTAzNzYyMTIwOTM1OTcyODY2LTAifQ==\n",
      "dict_keys(['results', 'next', 'requestParameters'])\n",
      "got 100 results\n",
      "Next: eyJhdXRoZW50aWNpdHkiOiJmMDlmM2RkMDhiMTQ5YzA1N2IwMzhkMWU3ZjRlNTQ4ZThmNmI1MTBiMTc2YTU5MGE4NzE1NjFhNDM0MWRkYTE2IiwiZnJvbURhdGUiOiIyMDE3MDgxNzAwMDAiLCJ0b0RhdGUiOiIyMDE3MDkwMjAwMDAiLCJuZXh0IjoiMjAxNzA5MDIwMDAwMDAtOTAzNzYxOTIwOTMwNTg2NjI0LTAifQ==\n",
      "dict_keys(['results', 'next', 'requestParameters'])\n",
      "got 100 results\n",
      "Next: eyJhdXRoZW50aWNpdHkiOiI2YzM2NmJiNzg1N2Y0MWU1YTI5NDgwNTc5ZjEwNTU1MDNjYzZlNDc0ZjkwN2ZhMmEwMDAzYmFiNTE1NDU2ODc1IiwiZnJvbURhdGUiOiIyMDE3MDgxNzAwMDAiLCJ0b0RhdGUiOiIyMDE3MDkwMjAwMDAiLCJuZXh0IjoiMjAxNzA5MDIwMDAwMDAtOTAzNzYxNzY3NTkxMDE4NDk2LTAifQ==\n",
      "dict_keys(['results', 'next', 'requestParameters'])\n",
      "got 100 results\n",
      "Next: eyJhdXRoZW50aWNpdHkiOiJlNmYyMDdjMjNjNzU2ODU0ZTA2ZmZhYjkzZWVmYmYxZDcyYWE4ZDEyNWI3NmMxMjBhYzU2ZjQ4MjAzYjk4ZTdjIiwiZnJvbURhdGUiOiIyMDE3MDgxNzAwMDAiLCJ0b0RhdGUiOiIyMDE3MDkwMjAwMDAiLCJuZXh0IjoiMjAxNzA5MDIwMDAwMDAtOTAzNzYxNTk4Njk0NzM5OTY4LTAifQ==\n",
      "dict_keys(['results', 'next', 'requestParameters'])\n",
      "got 100 results\n",
      "Next: eyJhdXRoZW50aWNpdHkiOiJhZTM3NmJiN2EzYjk3ZjNmZjU1ZmRmODA2OGQxM2YwODNmYmRhODdkZTJjMDFhMmUyYjFmOThjNTY2NTAyNzE5IiwiZnJvbURhdGUiOiIyMDE3MDgxNzAwMDAiLCJ0b0RhdGUiOiIyMDE3MDkwMjAwMDAiLCJuZXh0IjoiMjAxNzA5MDIwMDAwMDAtOTAzNzYxMzAyMzE2ODY3NTg2LTAifQ==\n",
      "dict_keys(['results', 'next', 'requestParameters'])\n",
      "got 100 results\n",
      "Next: eyJhdXRoZW50aWNpdHkiOiJiNGE2NTJiYzNlZTIxOTUxNjM5NjhkMDgwMTlkNDc0NTIyYzJkZGZhOTM2NTVlMTJmNGI0MzZiYTAzMjBhNTc4IiwiZnJvbURhdGUiOiIyMDE3MDgxNzAwMDAiLCJ0b0RhdGUiOiIyMDE3MDkwMjAwMDAiLCJuZXh0IjoiMjAxNzA5MDIwMDAwMDAtOTAzNzYxMDcxMTk4MTM4MzY4LTAifQ==\n",
      "dict_keys(['results', 'next', 'requestParameters'])\n",
      "got 100 results\n",
      "Next: eyJhdXRoZW50aWNpdHkiOiJmMGNlY2UyYWJhZWI3YjA4ZTA5YmNmMTQ4ZGE2NTA1MGIyNjhhMzYwZjhlNzhmODFjZGQzNGY0MjE5ZWYxYzBhIiwiZnJvbURhdGUiOiIyMDE3MDgxNzAwMDAiLCJ0b0RhdGUiOiIyMDE3MDkwMjAwMDAiLCJuZXh0IjoiMjAxNzA5MDIwMDAwMDAtOTAzNzYwODEzMzIzOTM5ODQwLTAifQ==\n",
      "dict_keys(['results', 'next', 'requestParameters'])\n",
      "got 100 results\n",
      "Next: eyJhdXRoZW50aWNpdHkiOiI2MzE5ZGQ2MDM5MmRjZTkyNWY5OTZkN2I0MTg2MmIxZDJlYzFlYmYyYWRmOWE5MWFiYmFjNWZmYWMyZjIxMmVkIiwiZnJvbURhdGUiOiIyMDE3MDgxNzAwMDAiLCJ0b0RhdGUiOiIyMDE3MDkwMjAwMDAiLCJuZXh0IjoiMjAxNzA5MDIwMDAwMDAtOTAzNzYwNTczNzk5NzgwMzUyLTAifQ==\n",
      "dict_keys(['results', 'next', 'requestParameters'])\n",
      "got 100 results\n",
      "Next: eyJhdXRoZW50aWNpdHkiOiI3OWZlYWU3MDgyMTg4NjhkZmJjNGI4ZWM4YTdmN2FhYTlkZmQ5Y2U0ZDcwNDlkZDVjOGY5MjUzOWUwYzE2Y2RhIiwiZnJvbURhdGUiOiIyMDE3MDgxNzAwMDAiLCJ0b0RhdGUiOiIyMDE3MDkwMjAwMDAiLCJuZXh0IjoiMjAxNzA5MDIwMDAwMDAtOTAzNzYwMzI5OTQ3MTcyODY1LTAifQ==\n",
      "dict_keys(['results', 'next', 'requestParameters'])\n",
      "got 100 results\n",
      "Next: eyJhdXRoZW50aWNpdHkiOiI2Y2FjMDg0YjQ2Njg0MGY1NTMyNGViMDY1NmI4NzFmYTU4OGExNDU1MTgxMTRmYThkYzU3NzFiMmIzODZjMmY5IiwiZnJvbURhdGUiOiIyMDE3MDgxNzAwMDAiLCJ0b0RhdGUiOiIyMDE3MDkwMjAwMDAiLCJuZXh0IjoiMjAxNzA5MDIwMDAwMDAtOTAzNzYwMTE1MTQ0MjUzNDQ1LTAifQ==\n",
      "dict_keys(['results', 'next', 'requestParameters'])\n",
      "got 100 results\n",
      "Next: eyJhdXRoZW50aWNpdHkiOiI1MDYyMGU1YzZjMTA4NWUwZDFhZTcwNTIxNmE2M2JiMWE4ZDQ2MDQ5OGM1ZTU5OGNhZjM0ZTI3M2E2ZDljZmY0IiwiZnJvbURhdGUiOiIyMDE3MDgxNzAwMDAiLCJ0b0RhdGUiOiIyMDE3MDkwMjAwMDAiLCJuZXh0IjoiMjAxNzA5MDIwMDAwMDAtOTAzNzU5ODY0MjQ1MDA2MzM2LTAifQ==\n",
      "dict_keys(['results', 'next', 'requestParameters'])\n",
      "got 100 results\n",
      "Next: eyJhdXRoZW50aWNpdHkiOiI0ZWNlY2Y5YjAwM2ZmMDJjZTg3NzQ3OTEzMTFjYjQ0ZGQ2MjhmY2MzZjkyZDcwMzJkYTQ5MGQxZjgyNTgwZWZmIiwiZnJvbURhdGUiOiIyMDE3MDgxNzAwMDAiLCJ0b0RhdGUiOiIyMDE3MDkwMjAwMDAiLCJuZXh0IjoiMjAxNzA5MDIwMDAwMDAtOTAzNzU5NjIzODY5NjU3MDg4LTAifQ==\n",
      "dict_keys(['results', 'next', 'requestParameters'])\n",
      "got 100 results\n",
      "Next: eyJhdXRoZW50aWNpdHkiOiI1MzljNTIwYjA0NTM3ODU1NDlhZGJjYTM2MTVjNzNkZmRhZmE2YzdkZDEzNjJmYmQ2ZDM1YzhlMGYxYzZkNTJkIiwiZnJvbURhdGUiOiIyMDE3MDgxNzAwMDAiLCJ0b0RhdGUiOiIyMDE3MDkwMjAwMDAiLCJuZXh0IjoiMjAxNzA5MDIwMDAwMDAtOTAzNzU5MzUxMTIyNDY4ODY0LTAifQ==\n"
     ]
    }
   ],
   "source": [
    "# use above functions\n",
    "# 4000 is the number of the tweets we gonna get\n",
    "results = []\n",
    "test_results = search_tweets(api, params, 4000)"
   ]
  },
  {
   "cell_type": "code",
   "execution_count": 16,
   "metadata": {},
   "outputs": [],
   "source": [
    "# save test_results in json format\n",
    "with open('./hurricane_results.json', 'w') as f:\n",
    "    json.dump(test_results, f)"
   ]
  },
  {
   "cell_type": "code",
   "execution_count": 17,
   "metadata": {},
   "outputs": [],
   "source": [
    "# Info pulled from tweets\n",
    "USEFUL_INFO_KEYS = ['created_at', 'text', 'longitute', 'latitute', 'retweet_count', 'favorite_count', 'hashtags']\n",
    "\n",
    "def extract_tweets(tweets):\n",
    "    result = []\n",
    "    for tweet in tweets:\n",
    "        info = {}\n",
    "        for key in USEFUL_INFO_KEYS:\n",
    "            if key == 'hashtags':\n",
    "                info[key] = [i['text'] for i in tweet['entities']['hashtags']]\n",
    "            elif key == 'longitute':\n",
    "                try:\n",
    "                    info[key] = tweet['coordinates']['coordinates'][0]\n",
    "                except TypeError:\n",
    "                    pass\n",
    "            elif key == 'latitute':\n",
    "                try:\n",
    "                    info[key] = tweet['coordinates']['coordinates'][1]\n",
    "                except TypeError:\n",
    "                    pass\n",
    "            else:\n",
    "                info[key] = tweet[key]\n",
    "        result.append(info)\n",
    "    return result"
   ]
  },
  {
   "cell_type": "code",
   "execution_count": 18,
   "metadata": {},
   "outputs": [],
   "source": [
    "# convert results into dataframe\n",
    "extracted_test = extract_tweets(test_results)\n",
    "df_hurricane = pd.DataFrame(extracted_test)"
   ]
  },
  {
   "cell_type": "code",
   "execution_count": 20,
   "metadata": {},
   "outputs": [],
   "source": [
    "# save dataframe as csv\n",
    "df_hurricane.to_csv('./hurricane_data.csv',index=False)"
   ]
  },
  {
   "cell_type": "code",
   "execution_count": 21,
   "metadata": {},
   "outputs": [
    {
     "data": {
      "text/plain": [
       "(4096, 7)"
      ]
     },
     "execution_count": 21,
     "metadata": {},
     "output_type": "execute_result"
    }
   ],
   "source": [
    "df_hurricane.shape"
   ]
  },
  {
   "cell_type": "code",
   "execution_count": null,
   "metadata": {},
   "outputs": [],
   "source": []
  }
 ],
 "metadata": {
  "kernelspec": {
   "display_name": "Python 3",
   "language": "python",
   "name": "python3"
  },
  "language_info": {
   "codemirror_mode": {
    "name": "ipython",
    "version": 3
   },
   "file_extension": ".py",
   "mimetype": "text/x-python",
   "name": "python",
   "nbconvert_exporter": "python",
   "pygments_lexer": "ipython3",
   "version": "3.7.3"
  },
  "varInspector": {
   "cols": {
    "lenName": 16,
    "lenType": 16,
    "lenVar": 40
   },
   "kernels_config": {
    "python": {
     "delete_cmd_postfix": "",
     "delete_cmd_prefix": "del ",
     "library": "var_list.py",
     "varRefreshCmd": "print(var_dic_list())"
    },
    "r": {
     "delete_cmd_postfix": ") ",
     "delete_cmd_prefix": "rm(",
     "library": "var_list.r",
     "varRefreshCmd": "cat(var_dic_list()) "
    }
   },
   "types_to_exclude": [
    "module",
    "function",
    "builtin_function_or_method",
    "instance",
    "_Feature"
   ],
   "window_display": false
  }
 },
 "nbformat": 4,
 "nbformat_minor": 2
}
