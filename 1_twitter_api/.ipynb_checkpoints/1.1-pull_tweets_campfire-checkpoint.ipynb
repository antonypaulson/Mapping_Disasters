{
 "cells": [
  {
   "cell_type": "markdown",
   "metadata": {},
   "source": [
    "# 1.1: Pull tweets- #campfire"
   ]
  },
  {
   "cell_type": "markdown",
   "metadata": {},
   "source": [
    "Pull Old tweets based hashtag and timestamp.  \n",
    "Please add keys, label and number of twitter based on below comments accordingly."
   ]
  },
  {
   "cell_type": "code",
   "execution_count": 10,
   "metadata": {},
   "outputs": [],
   "source": [
    "from TwitterAPI import TwitterAPI\n",
    "import json\n",
    "\n",
    "import pandas as pd\n",
    "import time"
   ]
  },
  {
   "cell_type": "code",
   "execution_count": 4,
   "metadata": {},
   "outputs": [],
   "source": [
    "# put twitter keys here\n",
    "consumer_key=''\n",
    "consumer_secret=''\n",
    "access_token_key=''\n",
    "access_token_secret=''"
   ]
  },
  {
   "cell_type": "code",
   "execution_count": 5,
   "metadata": {},
   "outputs": [],
   "source": [
    "# put params here\n",
    "# crateria example:'lang:en point_radius:[-95.36 29.76 25mi] (trapped OR rescue OR sos OR flood OR drowning)'\n",
    "\n",
    "# pull tweets about campfire\n",
    "params = {\n",
    "    'query':'lang:en (#campfire)',\n",
    "    'fromDate':'201811080000',\n",
    "    'toDate':'201901090000'\n",
    "}"
   ]
  },
  {
   "cell_type": "code",
   "execution_count": 6,
   "metadata": {},
   "outputs": [],
   "source": [
    "# functions used to pull call API multiple times\n",
    "\n",
    "api = TwitterAPI(consumer_key=consumer_key,\n",
    "                 consumer_secret=consumer_secret,\n",
    "                 access_token_key=access_token_key,\n",
    "                 access_token_secret=access_token_secret)\n",
    "\n",
    "def _get_tweet_count(found_tweets):\n",
    "    return len(set(tweet['id'] for tweet in found_tweets))\n",
    "\n",
    "def search(api, params, next_key=None):\n",
    "    PRODUCT = 'fullarchive'\n",
    "    LABEL = '' # This is specific to your application\n",
    "               # i.e. whatever label you set for your Dev environment, and is case sensitive\n",
    "    if next_key:\n",
    "        params['next']= next_key\n",
    "    r = api.request('tweets/search/%s/:%s' % (PRODUCT, LABEL), params)\n",
    "    print(r.json().keys())\n",
    "    try:\n",
    "        results = r.json()['results']\n",
    "    except:\n",
    "        print(r.json())\n",
    "        return None, None\n",
    "    try:\n",
    "        next_new = r.json()['next']\n",
    "    except:\n",
    "        return results, None\n",
    "    return results, next_new\n",
    "\n",
    "def search_tweets(api, params, counts):\n",
    "#     results = []\n",
    "    global results\n",
    "    MAX_COUNTER = 50 # number of times running api\n",
    "    query_counter = 0\n",
    "    tweet_counter = 0\n",
    "    next_key = ''\n",
    "    while len(results) < counts and query_counter <= MAX_COUNTER:\n",
    "        result, next_key = search(api, params, next_key)\n",
    "        print('got %s results' % str(len(result)))\n",
    "        print('Next: %s' % next_key)\n",
    "        results.extend(result)\n",
    "        query_counter += 1\n",
    "        if _get_tweet_count(results) == tweet_counter:\n",
    "            break\n",
    "        if next_key == None:\n",
    "            break\n",
    "        tweet_counter = _get_tweet_count(results)\n",
    "        time.sleep(2)\n",
    "    return results"
   ]
  },
  {
   "cell_type": "code",
   "execution_count": 11,
   "metadata": {
    "scrolled": false
   },
   "outputs": [],
   "source": [
    "# use above functions\n",
    "# 4000 is the number of the tweets we gonna get\n",
    "results = []\n",
    "test_results = search_tweets(api, params, 4000)"
   ]
  },
  {
   "cell_type": "code",
   "execution_count": 362,
   "metadata": {},
   "outputs": [],
   "source": [
    "# save test_results in json format\n",
    "with open('./data/campfire_results.json', 'w') as f:\n",
    "    json.dump(test_results, f)"
   ]
  },
  {
   "cell_type": "code",
   "execution_count": 363,
   "metadata": {},
   "outputs": [],
   "source": [
    "# Info pulled from tweets\n",
    "USEFUL_INFO_KEYS = ['created_at', 'text', 'longitute', 'latitute', 'retweet_count', 'favorite_count', 'hashtags']\n",
    "\n",
    "def extract_tweets(tweets):\n",
    "    result = []\n",
    "    for tweet in tweets:\n",
    "        info = {}\n",
    "        for key in USEFUL_INFO_KEYS:\n",
    "            if key == 'hashtags':\n",
    "                info[key] = [i['text'] for i in tweet['entities']['hashtags']]\n",
    "            elif key == 'longitute':\n",
    "                try:\n",
    "                    info[key] = tweet['coordinates']['coordinates'][0]\n",
    "                except TypeError:\n",
    "                    pass\n",
    "            elif key == 'latitute':\n",
    "                try:\n",
    "                    info[key] = tweet['coordinates']['coordinates'][1]\n",
    "                except TypeError:\n",
    "                    pass\n",
    "            else:\n",
    "                info[key] = tweet[key]\n",
    "        result.append(info)\n",
    "    return result"
   ]
  },
  {
   "cell_type": "code",
   "execution_count": 364,
   "metadata": {},
   "outputs": [],
   "source": [
    "# convert results into dataframe\n",
    "extracted_test = extract_tweets(test_results)\n",
    "df_campfire = pd.DataFrame(extracted_test)"
   ]
  },
  {
   "cell_type": "code",
   "execution_count": 2,
   "metadata": {},
   "outputs": [],
   "source": [
    "# save dataframe as csv\n",
    "df_campfire.to_csv('./data/campfire_data.csv',index=False)"
   ]
  },
  {
   "cell_type": "code",
   "execution_count": 368,
   "metadata": {},
   "outputs": [
    {
     "data": {
      "text/plain": [
       "(2099, 7)"
      ]
     },
     "execution_count": 368,
     "metadata": {},
     "output_type": "execute_result"
    }
   ],
   "source": [
    "df_campfire.shape"
   ]
  },
  {
   "cell_type": "code",
   "execution_count": null,
   "metadata": {},
   "outputs": [],
   "source": []
  }
 ],
 "metadata": {
  "kernelspec": {
   "display_name": "Python 3",
   "language": "python",
   "name": "python3"
  },
  "language_info": {
   "codemirror_mode": {
    "name": "ipython",
    "version": 3
   },
   "file_extension": ".py",
   "mimetype": "text/x-python",
   "name": "python",
   "nbconvert_exporter": "python",
   "pygments_lexer": "ipython3",
   "version": "3.7.3"
  }
 },
 "nbformat": 4,
 "nbformat_minor": 2
}
