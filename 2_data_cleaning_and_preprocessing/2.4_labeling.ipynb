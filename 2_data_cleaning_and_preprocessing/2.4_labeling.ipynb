{
 "cells": [
  {
   "cell_type": "markdown",
   "metadata": {},
   "source": [
    "# 2.4 labeling"
   ]
  },
  {
   "cell_type": "markdown",
   "metadata": {},
   "source": [
    "Label each tweets as 1 or 0.  \n",
    "1: related to disaster  \n",
    "0: not related to disaster"
   ]
  },
  {
   "cell_type": "code",
   "execution_count": 1,
   "metadata": {},
   "outputs": [],
   "source": [
    "# read data\n",
    "%store -r disaster\n",
    "%store -r disaster_words\n",
    "%store -r final_disaster_words"
   ]
  },
  {
   "cell_type": "code",
   "execution_count": 16,
   "metadata": {},
   "outputs": [],
   "source": [
    "disaster= disaster.reset_index()"
   ]
  },
  {
   "cell_type": "code",
   "execution_count": 19,
   "metadata": {},
   "outputs": [
    {
     "data": {
      "text/plain": [
       "'RT @ActionNewsNow: The Butte Strong Fund will provide a grant of over $200,000 to the Butte Co. Office of Education to help address child t…'"
      ]
     },
     "execution_count": 19,
     "metadata": {},
     "output_type": "execute_result"
    }
   ],
   "source": [
    "disaster['text'][0]"
   ]
  },
  {
   "cell_type": "code",
   "execution_count": 22,
   "metadata": {},
   "outputs": [
    {
     "name": "stdout",
     "output_type": "stream",
     "text": [
      "1474\n",
      "2384\n"
     ]
    }
   ],
   "source": [
    "real_disaster_tweets = []\n",
    "\n",
    "for i in final_disaster_words:\n",
    "    for x in range(len(disaster['text'])):\n",
    "        if i in disaster['text'][x]:\n",
    "            real_disaster_tweets.append(disaster['text'][x])\n",
    "                   \n",
    "print(len(real_disaster_tweets))\n",
    "print(len(disaster.text))"
   ]
  },
  {
   "cell_type": "code",
   "execution_count": 24,
   "metadata": {},
   "outputs": [
    {
     "name": "stdout",
     "output_type": "stream",
     "text": [
      "105\n",
      "2384\n"
     ]
    }
   ],
   "source": [
    "# test with several words only\n",
    "words=[\n",
    " 'need shelter',\n",
    " 'help me',\n",
    " 'needhelp',\n",
    " 'help us',\n",
    " 'fatal',\n",
    " 'medical',\n",
    " 'pleasehelp',\n",
    " 'casualties',\n",
    " 'respond',\n",
    " 'assistance',\n",
    " 'need help',\n",
    " 'send help',\n",
    " 'please help',\n",
    " 'shelter',\n",
    " 'emergency']\n",
    "\n",
    "real_disaster_tweets = []\n",
    "\n",
    "for i in words:\n",
    "    for x in range(len(disaster['text'])):\n",
    "        if i in disaster['text'][x]:\n",
    "            real_disaster_tweets.append(disaster['text'][x])\n",
    "                   \n",
    "print(len(real_disaster_tweets))\n",
    "print(len(disaster.text))"
   ]
  },
  {
   "cell_type": "code",
   "execution_count": 25,
   "metadata": {},
   "outputs": [
    {
     "data": {
      "text/plain": [
       "['#pfaaf #campfire my name is monique and this is our story, please help us to start over.\\nhttps://t.co/AAylM14Ecs',\n",
       " '@Ginger_Zee\\n\\nCould you please help us spread the word. It starts in 24 hours :-D \\n\\n#hurricaneharvey #harvey \\n\\nRT https://t.co/5It7txdCkF',\n",
       " 'RT @sdaly9: Our trip to the SuperBowl this family opened their home to us (not a rental property) Please Share An help us help them! #Hurri…',\n",
       " '@FoxNews .@FoxNews #Republican Prayer: God help us pass @trumpdumpcare bill dumping 32 million #HurricaneHarvey vic… https://t.co/9oM4uIsptu',\n",
       " 'RT @501stLegion: Please read, RT, donate &amp; help us raise relief money for our members affected by #HurricaneHarvey.\\nThanks &amp; MTFBWY!\\nhttps:…',\n",
       " 'RT @TheHiveSociety: Thread: Ways you can help us with donations for #HurricaneHarvey flood victims in #Houston &amp; affected cities like #Port…',\n",
       " 'RT @freelyfrankie: @CALifeSciences @RepLaMalfa I’m confused.  You support biomedical innovation but refuse to acknowledge global warming is…',\n",
       " '@CALifeSciences @RepLaMalfa I’m confused.  You support biomedical innovation but refuse to acknowledge global warmi… https://t.co/3b1LS4TuhM',\n",
       " \"Great story! | High water didn't stop medical team from missing shift #mdanderson #hurricaneharvey https://t.co/XVCwuFRhLU via @nbcnews\",\n",
       " '#HurricaneHarvey | Indian-Americans in Texas help thousands with food, medical aid https://t.co/8lBr34Rt4N https://t.co/BibeVq3fvS',\n",
       " '#HurricaneHarvey | Indian-Americans in Texas help thousands with food, medical aid https://t.co/u0QkAHoiaU https://t.co/Ba4WntcuBb',\n",
       " '#HurricaneHarvey | Indian-Americans in Texas help thousands with food, medical aid https://t.co/6wIxbRkzBJ https://t.co/EzNcu1cU45',\n",
       " '#HurricaneHarvey | Indian-Americans in Texas help thousands with food, medical aid https://t.co/fHVygplaXV https://t.co/o6XJbAuzh9',\n",
       " \"RT @CapRadioInsight: Our first guest this morning is @nprnews correspondent @Ericnpr. He's in Chico, where he's been covering the #PGE bank…\",\n",
       " \"Our first guest this morning is @nprnews correspondent @Ericnpr. He's in Chico, where he's been covering the #PGE b… https://t.co/zjWxO61gew\",\n",
       " 'Paradise PD came by to say Hello:)\\nWe’re so thankful for all the emergency responders and officers who are working… https://t.co/MH9vlrcFQv',\n",
       " '@ChicoArtCenter  Renew, Rebuild, Reimagine Opening Reception 2/8/2019. 60 artists respond to the #CampFire.… https://t.co/gcI6iVozaL',\n",
       " 'RT @SecNielsen: Today, I met with @CAL_FIRE, @Cal_OES and first responders to survey the damage caused by the #CarrFire. @DHSgov and @fema…',\n",
       " 'The Disaster Relief Fund allows @DignityHealth to respond quickly and efficiently when disasters occur, including t… https://t.co/EOvacHcp1T',\n",
       " 'My latest: I was surprised by the climate change deniers who responded to a tweet linking the #CarrFire to climate… https://t.co/KRzh74Z4zu',\n",
       " 'RT @LoveGypsy1111: Heartfelt thanks ❤to All #firefighters &amp; #1stresponders here to take on this beast! 🚒💦🔥  \\n#FirefightersAreHeros \\n🚒💦🔥 #Ba…',\n",
       " 'Heartfelt thanks ❤to All #firefighters &amp; #1stresponders here to take on this beast! 🚒💦🔥  \\n#FirefightersAreHeros \\n🚒💦… https://t.co/LGQ8vdeEHO',\n",
       " \"RT @EcologyWCC: Here's a peek at our WCC #AmeriCorps teams responding to #HurricaneHarvey, currently in Austin: https://t.co/CpPMWVzYB8 #Am…\",\n",
       " 'RT @Mariska: Amazed,grateful,moved by images of 1st responders &amp; civilians helping during #HurricaneHarvey. Heres how to support: https://t…',\n",
       " 'RT @texyellowdogdem: Photo shows the devastation of #HurricaneHarvey flood waters...\\n\\nThanks to all the 1st responders and rescuers who cam…',\n",
       " 'RT @ChakaKhan: I would like 2 dedicate #FineWomenFriday 2 all the people affected by #HurricaneHarvey, victims, volunteers &amp; responders. ht…',\n",
       " 'The Texas BBQ community responds to Hurricane Harvey. https://t.co/CTpK4o7EVX @texasbbqposse #HurricaneHarvey… https://t.co/xHODZw4brQ',\n",
       " \"RT @lfbill: @dagenmcdowell talks 2 Mike Lindell of @MyPillowUSA abt his fndtn's rspns 2 supply #HurricaneHarvey victims &amp; 1st responders w/…\",\n",
       " 'RT @heart911team: HEART 9/11 Rapid Response Team #1 removed furniture, sheetrock and debris from Houston first responder homes today. #Hurr…',\n",
       " 'RT @ryparker5: A message from a first responder to the selfless servants helping to rebuild Houston! #cfbcHarvey #hurricaneharvey #hoUSton…',\n",
       " \"1 final chance #Magalia community if you haven't registered with the Red Cross to receive assistance yet.   All the… https://t.co/j4HT4kCEZ8\",\n",
       " '@ICRicardoLara Thank you @ICRicardoLara for visiting @paradise_ca today and offering your assistance to #CampFire survivors.',\n",
       " 'FEMA IA assistance to DR 4407 includes 3,248 temporary housing units. 192 households assisted with direct housing.… https://t.co/VIbKQTLakw',\n",
       " 'RT @ActionNewsNow: The deadline to apply for a #CarrFire disaster assistance loan is approaching on Oct. 3. Get all of the details in the l…',\n",
       " 'The deadline to apply for a #CarrFire disaster assistance loan is approaching on Oct. 3. Get all of the details in… https://t.co/NoZ1rudfnn',\n",
       " 'RT @SenKamalaHarris: For information on #CarrFire recovery efforts - including housing, financial assistance, and other resources - visit h…',\n",
       " 'RT @ShastaRCF: We are happy to announce a $50,000 grant award to @NVCSS for utility deposits and rental assistance to #CarrFire survivors.…',\n",
       " 'We are happy to announce a $50,000 grant award to @NVCSS for utility deposits and rental assistance to #CarrFire su… https://t.co/wcKg4vkdzb',\n",
       " \"Help guide the housing and employment assistance we're providing to #CarrFire victims and our community by filling… https://t.co/PPprwTDPdO\",\n",
       " 'Delta Fire not a FMAG? Survivors get no assistance?? Shasta County might request EM,  CDAA or an Individual Assista… https://t.co/aLOv9a3MFL',\n",
       " '100 families helped, and counting. Meet the Redding couple who started a grassroots assistance effort for Carr Fire… https://t.co/9Ukbm5G9Q2',\n",
       " 'RT @JarrettBarrios: Thanks, @CruzRoja_MX-- #Mexicans coming to assistance of #HurricaneHarvey victims. #Hermanos #thankyou https://t.co/NWN…',\n",
       " 'RT @boostmobile: If you are affected by #HurricaneHarvey, we want to help keep you connected w/ your loved ones. Get assistance now: https:…',\n",
       " 'RT @USDANutrition: See what steps @USDA has taken in Texas to help victims of #HurricaneHarvey w/ food assistance: https://t.co/PeK5YeQYbS…',\n",
       " 'RT @texyellowdogdem: So far 210,000 people have registered with FEMA for disaster assistance due damage from #HurricaneHarvey according to…',\n",
       " 'RT @rue21: Our 💜s r w/ those affected by #hurricaneharvey We’ve partnered w/the TRA 2 provide local assistance 2 those impacted https://t.c…',\n",
       " \"RT @FluorCorp: Houston-area employees needing info and/or assistance from #HurricaneHarvey can call Fluor's Emergency Hotline. Stay safe. #…\",\n",
       " 'RT @DeptVetAffairs: VA outreach coordinators are at the Dallas Conv. Center to offer benefits assistance to #HurricaneHarvey evacuees. http…',\n",
       " \"RT @ChakaKhan: Let's send love, prayers &amp; assistance 2 those in the areas affected by #HurricaneHarvey. @HoustonFoodBank is a great organiz…\",\n",
       " 'RT @NyleDiMarco: #DeafInHarvey was your home damaged in #HurricaneHarvey? Find out how to apply for @FEMA assistance here:\\n\\nhttps://t.co/1L…',\n",
       " \"RT @Radarzzz: Don't forget the small communities They need help too!!!  @__0HOUR1_  #HurricaneHarvey #HurricaneHarveyRelief https://t.co/LM…\",\n",
       " '@realDonaldTrump they need help not your hypocritical prayers - #HurricaneHarvey',\n",
       " 'RT @Clint_Black: Sending up prayers for my fellow Texans. Those affected by #HurricaneHarvey need help. Donate to @salvationarmyUS at https…',\n",
       " '#pfaaf #campfire my name is monique and this is our story, please help us to start over.\\nhttps://t.co/AAylM14Ecs',\n",
       " '@Ginger_Zee\\n\\nCould you please help us spread the word. It starts in 24 hours :-D \\n\\n#hurricaneharvey #harvey \\n\\nRT https://t.co/5It7txdCkF',\n",
       " '#CampFire victims have been through ‘hell.’ As last shelter closes, where will they go? https://t.co/b7m9pIY1UI',\n",
       " '#CampFire #CampFirePets\\nKicked out when last @RedCross shelter closed? Updated 11:30a, verified: rehousing, giveawa… https://t.co/XLhOER4rgT',\n",
       " '#CampFire victims have been through ‘hell.’ As last shelter closes, where will they go? https://t.co/fP7UILGDJw',\n",
       " \"The Camp Fire shelter opened by the #RedCross is still there 60 days later.  See what's happening (video)  .… https://t.co/Urwfs037B7\",\n",
       " 'A powerful story by @ayoonhendricks who reports on the plight of #campfire victims at the last remaining shelter th… https://t.co/sPcrk16BJV',\n",
       " 'RT @BCWildfireToday: \"Silver Dollar campground is at the Silver Dollar fairgrounds, which is supposed to be a shelter for #CampFire survivo…',\n",
       " \"RT @Jasamsdestiny: FOUND\\n#Concow?  Here's another of your babies at the Chico shelter.\\n\\nShort thick coat of fur with very faint darker gray…\",\n",
       " \"The Camp Fire shelter opened by the #RedCross is still there 60 days later.  See what's happening (video)  .… https://t.co/b8RMuqhPOp\",\n",
       " \"The Camp Fire shelter opened by the #RedCross is still there 60 days later.  See what's happening (video)  .… https://t.co/ZaX5DkraTs\",\n",
       " \"The Camp Fire shelter opened by the #RedCross is still there 60 days later.  See what's happening (video)  .… https://t.co/kfXl02Uq4p\",\n",
       " '#CampFire @CountyofButte \\n\\nFamily of 9 left in dirt parking lot w/out shelter last night\\n\\n@reddogsusie @chortletown… https://t.co/RGzLcjpCPY',\n",
       " '#CampFire\\n\\nUPDATE:: The fairgrounds shelter is on lock down!\\n\\n@reddogsusie @chortletown @Indigo_Pho13 @BadBoyEM… https://t.co/ju5VddoluK',\n",
       " '1K #CampFire families still seek their #CampFirePets, in shelters &amp; in burn zone! Butte Co is adopting them out DAI… https://t.co/ZyKrbyKKCX',\n",
       " 'Volunteers scramble to save #pets in #CarrFire-burned areas while shelters, rescues full. #cats #dogs https://t.co/yH2jeRry4R',\n",
       " \"My weakness, animals and teachers. I can't stop donating to help teacher and shelter animals.  Can the fires and hu… https://t.co/GHggTbkJej\",\n",
       " \"#CarrFire #ShastaStrong\\n\\nShasta County #CA passed an ordinance that allows RV and temporary shelters on people's pr… https://t.co/7tDPq9wjAy\",\n",
       " \"We heard #HurricaneHarvey shelters are desperate for underwear, so we're doing something about it. #HoustonStrong https://t.co/H4tz7ne9RA\",\n",
       " 'Honestly if I had to suggest charities to give to after being volunteer think local and quick response. Think shelters.  #HurricaneHarvey',\n",
       " 'RT @sahumane: Upd:  We have supplied or in process to help supply shelters in Corpus Christi, Portland, Aransas Pass, Houston, Texas. #Hurr…',\n",
       " 'RT @sahumane: Upd: Since #HurricaneHarvey hit the TX Coast: The SAHS has rescued, temporarily sheltered, transferred 160+ dogs/cats from de…',\n",
       " 'RT @WGBRockwall: Click to read about how @austinpetsalive is helping #shelters affected by #HurricaneHarvey and how you can help! https://t…',\n",
       " 'Click to read about how @austinpetsalive is helping #shelters affected by #HurricaneHarvey and how you can help! https://t.co/4Rpwomgcid',\n",
       " 'RT @SalArmyEDS: FULL STORY: #SalvationArmy helping care for hundreds of evacuees at shelter in Lake Charles, LA #HurricaneHarvey https://t.…',\n",
       " 'Thanks to volunteers from @TCU for helping sort and palletize donations to take to the shelter for #HurricaneHarvey… https://t.co/sOLQiebP4L',\n",
       " 'RT @NC5_EmilyLuxen: JUST IN: @ARCorps is helping rescue animals from flooded shelters in Beaumont, Texas after #HurricaneHarvey. https://t.…',\n",
       " 'RT @OVN: #Ojai homeless shelter sends beds to help #Harvey2017 victims #HurricaneHarveyRelief #HurricaneHarvey https://t.co/UXezQScxSo via…',\n",
       " 'RT @austinpetsalive: Austin Pets Alive! is helping shelters in the direct line of #HurricaneHarvey. Please find out how you can help: https…',\n",
       " \"RT @PaigeGbria: Here's a list of shelters set up right now in Houston. Please RT to share.\\n #HurricaneHarvey #houstonflood https://t.co/nqW…\",\n",
       " \"RT @SeattleHumane: We'll be taking in shelter pets from Texas so they have room for lost and stranded animals from #HurricaneHarvey - https…\",\n",
       " 'RT @chadwickboseman: So many ways we can all help... @shelterboxusa | @RedCross | @JJWatt https://t.co/lLIuabP90n #HurricaneHarvey https://…',\n",
       " 'ICYMI📺: #HoosiersHelpingHouston lets you donate needed items for @RedCross shelters in #HurricaneHarvey impact area. https://t.co/v0VUK0dBuN',\n",
       " 'RT @abc13houston: .@HoustonTexans players spend time at NRG Center shelter after #HurricaneHarvey https://t.co/bz2rp4jzfN https://t.co/4IwM…',\n",
       " 'RT @tokenpet: Check out what this shelter in Seattle is doing as dozens of displaced pets arrive! #HurricaneHarvey #petshelter https://t.co…',\n",
       " '@ASPCA is transporting animals to safety and delivering supplies to shelters. #HurricaneHarvey  https://t.co/OKT8hQ7StO',\n",
       " '#Ojai homeless shelter sends beds to help #Harvey2017 victims #HurricaneHarveyRelief #HurricaneHarvey… https://t.co/TxMlMjPb1p',\n",
       " 'RT @CovHousePrez: #HurricaneHarvey is approaching. Please refer youth w/out shelter in Houston to @CovenantHouseTX 111 Lovett Blvd &amp; keep T…',\n",
       " 'Paradise PD came by to say Hello:)\\nWe’re so thankful for all the emergency responders and officers who are working… https://t.co/MH9vlrcFQv',\n",
       " 'RT coileanomurchu: Climate defenders disrupting the CA Public Utility Commission last minute emergency mtg, called… https://t.co/bfmGsvsw6m',\n",
       " 'SERVPRO of North Shasta, Trinity &amp; Greater Tehama Counties provides 24-hour fast emergency service to your fire, sm… https://t.co/MNvN1HzRvw',\n",
       " '@RealFoodNagy And that same CPUC today held a sham \"emergency\" meeting, voting unanimously to make way for a $6B ba… https://t.co/4UaagbQd5S',\n",
       " 'Climate defenders disrupting the CA Public Utility Commission last minute emergency mtg, called over the wknd. Grea… https://t.co/Q1oBJoBxYa',\n",
       " 'RT @DSAEastBay: 🚨 EMERGENCY MEETING TOMORROW FOR PG&amp;E 🚨\\n\\nThe CPUC scheduled a surprise emergency hearing to allow PG&amp;E to pursue financing…',\n",
       " 'California Wildfires And High Winds (DR-4382)\\nDisasters don’t plan ahead. You can. Make an emergency plan today &amp; p… https://t.co/TPYZP5MPeE',\n",
       " 'The last time a Shasta County judge had to round up prospective jurors from the street for emergency jury duty was… https://t.co/JG8UoNFoFE',\n",
       " '**Shasta County Fire Relief Fund Update**\\n\\nIf you lost your home during the #carrfire, emergency funds are still av… https://t.co/mXYVgztfIl',\n",
       " 'California Wildfires And High Winds (DR-4382)\\nDisasters don’t plan ahead. You can. Make an emergency plan today &amp; p… https://t.co/TueXztJp7t',\n",
       " 'RT @AbortionFunds: . @lilithfund has created an emergency fund for folks who need abortions who’ve been affected by #HurricaneHarvey https:…',\n",
       " 'RT @celanese: We have been directly supporting employees by providing hotel rooms, rental cars and supporting other emergency needs. #Hurri…',\n",
       " 'RT @USDANutrition: USDA working w/ TX &amp; LA officials so #HurricaneHarvey victims have food access now/after emergency ops are completed htt…',\n",
       " \"RT @AnheuserBusch: We're sending more than 155,000 cans of emergency drinking water to those affected by #HurricaneHarvey. Stay safe everyo…\"]"
      ]
     },
     "execution_count": 25,
     "metadata": {},
     "output_type": "execute_result"
    }
   ],
   "source": [
    "real_disaster_tweets"
   ]
  },
  {
   "cell_type": "code",
   "execution_count": null,
   "metadata": {},
   "outputs": [],
   "source": []
  }
 ],
 "metadata": {
  "kernelspec": {
   "display_name": "Python 3",
   "language": "python",
   "name": "python3"
  },
  "language_info": {
   "codemirror_mode": {
    "name": "ipython",
    "version": 3
   },
   "file_extension": ".py",
   "mimetype": "text/x-python",
   "name": "python",
   "nbconvert_exporter": "python",
   "pygments_lexer": "ipython3",
   "version": "3.7.3"
  }
 },
 "nbformat": 4,
 "nbformat_minor": 2
}
