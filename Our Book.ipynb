{
 "cells": [
  {
   "cell_type": "code",
   "execution_count": 1,
   "metadata": {},
   "outputs": [],
   "source": [
    "import twitter\n",
    "import GetOldTweets3 as got\n",
    "\n",
    "api = twitter.Api(consumer_key='ZBe9BKgpbNkVyXvMARFkg7Rm7',\n",
    "                  consumer_secret='FMGCaWhsPwRzOklZ7f8mtY7w2V3UCrseaBeeejZjzwMw04VelQ',\n",
    "                    access_token_key='53118685-AFPGNyZgciMIAYLNYkfUKN152pGqKra4rsGFVXL5w',\n",
    "                  access_token_secret='u7pabeAveLPM5wvwOdcVvpcxxTB2UUHsLibJ1bZ13qs6h')\n"
   ]
  },
  {
   "cell_type": "code",
   "execution_count": null,
   "metadata": {},
   "outputs": [],
   "source": [
    "#                                             .setSince('2018-11-08')\\\n",
    "#                                             .setUntil('2018-12-01')\\\n",
    "                                            .setNear(\"39.75, -121.62\")\\\n"
   ]
  },
  {
   "cell_type": "code",
   "execution_count": 2,
   "metadata": {},
   "outputs": [
    {
     "ename": "IndexError",
     "evalue": "list index out of range",
     "output_type": "error",
     "traceback": [
      "\u001b[0;31m---------------------------------------------------------------------------\u001b[0m",
      "\u001b[0;31mIndexError\u001b[0m                                Traceback (most recent call last)",
      "\u001b[0;32m<ipython-input-2-c7aa481b04a9>\u001b[0m in \u001b[0;36m<module>\u001b[0;34m\u001b[0m\n\u001b[1;32m      4\u001b[0m                                             \u001b[0;34m.\u001b[0m\u001b[0msetNear\u001b[0m\u001b[0;34m(\u001b[0m\u001b[0;34m\"39.75, -121.62\"\u001b[0m\u001b[0;34m)\u001b[0m\u001b[0;31m\\\u001b[0m\u001b[0;34m\u001b[0m\u001b[0;34m\u001b[0m\u001b[0m\n\u001b[1;32m      5\u001b[0m                                            \u001b[0;34m.\u001b[0m\u001b[0msetMaxTweets\u001b[0m\u001b[0;34m(\u001b[0m\u001b[0;36m100\u001b[0m\u001b[0;34m)\u001b[0m\u001b[0;34m\u001b[0m\u001b[0;34m\u001b[0m\u001b[0m\n\u001b[0;32m----> 6\u001b[0;31m \u001b[0mtweet\u001b[0m \u001b[0;34m=\u001b[0m \u001b[0mgot\u001b[0m\u001b[0;34m.\u001b[0m\u001b[0mmanager\u001b[0m\u001b[0;34m.\u001b[0m\u001b[0mTweetManager\u001b[0m\u001b[0;34m.\u001b[0m\u001b[0mgetTweets\u001b[0m\u001b[0;34m(\u001b[0m\u001b[0mtweetCriteria\u001b[0m\u001b[0;34m)\u001b[0m\u001b[0;34m[\u001b[0m\u001b[0;36m0\u001b[0m\u001b[0;34m]\u001b[0m\u001b[0;34m\u001b[0m\u001b[0;34m\u001b[0m\u001b[0m\n\u001b[0m\u001b[1;32m      7\u001b[0m \u001b[0mprint\u001b[0m\u001b[0;34m(\u001b[0m\u001b[0mtweet\u001b[0m\u001b[0;34m.\u001b[0m\u001b[0mtext\u001b[0m\u001b[0;34m)\u001b[0m\u001b[0;34m\u001b[0m\u001b[0;34m\u001b[0m\u001b[0m\n",
      "\u001b[0;31mIndexError\u001b[0m: list index out of range"
     ]
    }
   ],
   "source": [
    "tweetCriteria = got.manager.TweetCriteria().setQuerySearch('campfire wildfire paradise butte')\\\n",
    "                                            .setSince('2018-11-08')\\\n",
    "                                            .setUntil('2018-12-31')\\\n",
    "                                            .setNear(\"39.75, -121.62\")\\\n",
    "                                           .setMaxTweets(100)\n",
    "tweet = got.manager.TweetManager.getTweets(tweetCriteria)[0]\n",
    "print(tweet.text)\n"
   ]
  },
  {
   "cell_type": "code",
   "execution_count": null,
   "metadata": {},
   "outputs": [],
   "source": [
    "tweet_texts = []\n",
    "tweet_hashtags = []\n",
    "tweet_links = []\n",
    "tweet_date_time = []\n",
    "\n",
    "for i in range(0, len(tweet)):\n",
    "    tweet_1 = got.manager.TweetManager.getTweets(tweetCriteria)[i]\n",
    "#     print(tweet)\n",
    "    tweet_text.append(tweet_1.text)\n",
    "#     print(tweet_text)\n",
    "    tweet_geo.append(tweet_1.geo)\n",
    "#     print(tweet_geo)\n",
    "    tweet_hashtags.append(tweet_1.hashtags)\n",
    "    tweet_links.append(tweet_1.permalink)\n",
    "    tweet_date_time.append(tweet_1.formatted_date)"
   ]
  },
  {
   "cell_type": "code",
   "execution_count": null,
   "metadata": {},
   "outputs": [],
   "source": [
    "len(tweet_text)"
   ]
  },
  {
   "cell_type": "code",
   "execution_count": null,
   "metadata": {},
   "outputs": [],
   "source": [
    "import tweepy\n",
    "\n",
    "auth = tweepy.OAuthHandler('ZBe9BKgpbNkVyXvMARFkg7Rm7', 'FMGCaWhsPwRzOklZ7f8mtY7w2V3UCrseaBeeejZjzwMw04VelQ')\n",
    "auth.set_access_token('53118685-AFPGNyZgciMIAYLNYkfUKN152pGqKra4rsGFVXL5w', 'u7pabeAveLPM5wvwOdcVvpcxxTB2UUHsLibJ1bZ13qs6h')\n",
    "\n",
    "api = tweepy.API(auth)\n",
    "\n"
   ]
  },
  {
   "cell_type": "code",
   "execution_count": null,
   "metadata": {},
   "outputs": [],
   "source": [
    "for tweet in tweepy.Cursor(api.search, q=('campfire'), since='2018-11-08', until='2018-11-09').items(5):\n",
    "    print(\"Name:\", tweet.author.name.encode('utf8'))\n",
    "    print(\"Screen-name:\", tweet.author.screen_name.encode('utf8'))\n",
    "    print(\"Tweet created:\", tweet.created_at)\n",
    "    print(\"Tweet:\", tweet.text.encode('utf8'))\n",
    "    print(\"Retweeted:\", tweet.retweeted)\n",
    "    print(\"Favourited:\", tweet.favorited)\n",
    "    print(\"Location:\", tweet.user.location.encode('utf8'))\n",
    "    print(\"Time-zone:\", tweet.user.time_zone)\n",
    "    print(\"Geo:\", tweet.geo)\n",
    "    print(\"//////////////////\")\n"
   ]
  },
  {
   "cell_type": "code",
   "execution_count": null,
   "metadata": {},
   "outputs": [],
   "source": []
  },
  {
   "cell_type": "code",
   "execution_count": null,
   "metadata": {},
   "outputs": [],
   "source": []
  },
  {
   "cell_type": "code",
   "execution_count": null,
   "metadata": {},
   "outputs": [],
   "source": []
  },
  {
   "cell_type": "code",
   "execution_count": null,
   "metadata": {},
   "outputs": [],
   "source": [
    "# import tweepy\n",
    "# import datetime\n",
    "\n",
    "# auth = tweepy.OAuthHandler('ZBe9BKgpbNkVyXvMARFkg7Rm7', 'FMGCaWhsPwRzOklZ7f8mtY7w2V3UCrseaBeeejZjzwMw04VelQ')\n",
    "# auth.set_access_token('53118685-AFPGNyZgciMIAYLNYkfUKN152pGqKra4rsGFVXL5w', 'u7pabeAveLPM5wvwOdcVvpcxxTB2UUHsLibJ1bZ13qs6h')\n",
    "\n",
    "# api = tweepy.API(auth, wait_on_rate_limit=True)\n",
    "\n",
    "# lon = []\n",
    "# lat = []\n",
    "# text = []\n",
    "# timestamp = [] \n",
    "# hashtag = []\n",
    "# follower_ct = []\n",
    "# retweet_stat = []\n",
    "# retweet_ct = []\n",
    "# startDate = datetime.datetime(2018, 11, 8, 0, 0, 0)\n",
    "# endDate = datetime.datetime(2018, 11, 10, 0, 0, 0)\n",
    "\n",
    "# for tweet in tweepy.Cursor(api.search,\n",
    "#                            q='campfire paradise butte wildfire',\n",
    "#                            count = 2000).items():\n",
    "#     if (tweet.coordinates is not None) & (endDate > tweet.created_at > startDate):\n",
    "#         long = tweet.coordinates['coordinates'][0]\n",
    "#         lati = tweet.coordinates['coordinates'][1]\n",
    "#         lon.append(long)\n",
    "#         lat.append(lati)\n",
    "#         text.append(tweet.text)\n",
    "#         timestamp.append(tweet.created_at)\n",
    "#         hashtag.append(tweet.entities.get('hashtags'))\n",
    "#         follower_ct.append(tweet.entities.get('followers_count'))\n",
    "#         retweet_stat.append(tweet.entities.get('retweeted_status'))\n",
    "#         retweet_ct.append(tweet.entities.get('retweet_count'))\n",
    "#         print(tweet.coordinates)\n",
    "#         print(tweet.text)\n",
    "\n",
    "# searched_tweets = [status for status in tweepy.Cursor(api.search, q='campfire').items(10)]"
   ]
  },
  {
   "cell_type": "code",
   "execution_count": null,
   "metadata": {},
   "outputs": [],
   "source": [
    "# searched_tweets[9]"
   ]
  },
  {
   "cell_type": "code",
   "execution_count": null,
   "metadata": {},
   "outputs": [],
   "source": []
  }
 ],
 "metadata": {
  "kernelspec": {
   "display_name": "Python 3",
   "language": "python",
   "name": "python3"
  },
  "language_info": {
   "codemirror_mode": {
    "name": "ipython",
    "version": 3
   },
   "file_extension": ".py",
   "mimetype": "text/x-python",
   "name": "python",
   "nbconvert_exporter": "python",
   "pygments_lexer": "ipython3",
   "version": "3.6.8"
  }
 },
 "nbformat": 4,
 "nbformat_minor": 2
}
