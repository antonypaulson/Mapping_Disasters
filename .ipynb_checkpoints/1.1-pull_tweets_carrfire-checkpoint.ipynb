{
 "cells": [
  {
   "cell_type": "markdown",
   "metadata": {},
   "source": [
    "# 1.1: Pull tweets- #carrfire"
   ]
  },
  {
   "cell_type": "markdown",
   "metadata": {},
   "source": [
    "Pull Old tweets based hashtag and timestamp"
   ]
  },
  {
   "cell_type": "code",
   "execution_count": 32,
   "metadata": {},
   "outputs": [],
   "source": [
    "from TwitterAPI import TwitterAPI\n",
    "import json\n",
    "\n",
    "import pandas as pd\n",
    "import time"
   ]
  },
  {
   "cell_type": "code",
   "execution_count": 45,
   "metadata": {},
   "outputs": [],
   "source": [
    "# put your key here\n",
    "consumer_key=''\n",
    "consumer_secret=''\n",
    "access_token_key=''\n",
    "access_token_secret=''"
   ]
  },
  {
   "cell_type": "code",
   "execution_count": 46,
   "metadata": {},
   "outputs": [],
   "source": [
    "# put your params here: change geo, time and keywords\n",
    "params = {\n",
    "    'query':'lang:en (#carrfire)',\n",
    "    'fromDate':'201807230000',\n",
    "    'toDate':'201809230000'\n",
    "}"
   ]
  },
  {
   "cell_type": "code",
   "execution_count": 47,
   "metadata": {},
   "outputs": [],
   "source": [
    "# functions used to pull call API multiple times\n",
    "# Please read all comments as I put below and make changes accordingly\n",
    "\n",
    "api = TwitterAPI(consumer_key=consumer_key,\n",
    "                 consumer_secret=consumer_secret,\n",
    "                 access_token_key=access_token_key,\n",
    "                 access_token_secret=access_token_secret)\n",
    "\n",
    "def _get_tweet_count(found_tweets):\n",
    "    return len(set(tweet['id'] for tweet in found_tweets))\n",
    "\n",
    "def search(api, params, next_key=None):\n",
    "    PRODUCT = 'fullarchive'\n",
    "    LABEL = '' # This is specific to your application\n",
    "               # i.e. whatever label you set for your Dev environment, and is case sensitive\n",
    "    if next_key:\n",
    "        params['next']= next_key\n",
    "    r = api.request('tweets/search/%s/:%s' % (PRODUCT, LABEL), params)\n",
    "    print(r.json().keys())\n",
    "    try:\n",
    "        results = r.json()['results']\n",
    "    except:\n",
    "        print(r.json())\n",
    "        return None, None\n",
    "    try:\n",
    "        next_new = r.json()['next']\n",
    "    except:\n",
    "        return results, None\n",
    "    return results, next_new\n",
    "\n",
    "def search_tweets(api, params, counts):\n",
    "#     results = []\n",
    "    global results\n",
    "    MAX_COUNTER = 50 # number of times running api\n",
    "    query_counter = 0\n",
    "    tweet_counter = 0\n",
    "    next_key = ''\n",
    "    while len(results) < counts and query_counter <= MAX_COUNTER:\n",
    "        result, next_key = search(api, params, next_key)\n",
    "        print('got %s results' % str(len(result)))\n",
    "        print('Next: %s' % next_key)\n",
    "        results.extend(result)\n",
    "        query_counter += 1\n",
    "        if _get_tweet_count(results) == tweet_counter:\n",
    "            break\n",
    "        if next_key == None:\n",
    "            break\n",
    "        tweet_counter = _get_tweet_count(results)\n",
    "        time.sleep(2)\n",
    "    return results\n"
   ]
  },
  {
   "cell_type": "code",
   "execution_count": 48,
   "metadata": {
    "scrolled": false
   },
   "outputs": [
    {
     "name": "stdout",
     "output_type": "stream",
     "text": [
      "dict_keys(['results', 'next', 'requestParameters'])\n",
      "got 99 results\n",
      "Next: eyJhdXRoZW50aWNpdHkiOiI4M2UxMWMyYjY4OTU4YTVjNjc2MjgxNjA2MTIwNDNkODc0ZjYxYjk1NmNlZGYwMDY5Zjg4NTc4MmU3Y2YyYmI5IiwiZnJvbURhdGUiOiIyMDE4MDcyMzAwMDAiLCJ0b0RhdGUiOiIyMDE4MDkyMzAwMDAiLCJuZXh0IjoiMjAxODA5MjMwMDAwMDAtMTA0MjgxOTIzNTA1MzkyMDI1Ny0wIn0=\n",
      "dict_keys(['results', 'next', 'requestParameters'])\n",
      "got 100 results\n",
      "Next: eyJhdXRoZW50aWNpdHkiOiI1ZDM2YTQyOWJjNWJmMjRmNmEzOGI2MGY3Y2IzNGYxOGIyMmUzMmZmNWNhYTI3ZTljYmIxZTY0NWNjYmM1ZGRhIiwiZnJvbURhdGUiOiIyMDE4MDcyMzAwMDAiLCJ0b0RhdGUiOiIyMDE4MDkyMzAwMDAiLCJuZXh0IjoiMjAxODA5MjMwMDAwMDAtMTA0MTkxOTQ5NzM2NjU4OTQ0MC0wIn0=\n",
      "dict_keys(['results', 'next', 'requestParameters'])\n",
      "got 100 results\n",
      "Next: eyJhdXRoZW50aWNpdHkiOiJjZWY4YmVkMGFiMDM4ZTQxNzgyM2YxNWE0ZDVkMDEyNmM4ODkwY2RiYmMwZmRmYzZhMTExMTU0YWUyNWU4NDA3IiwiZnJvbURhdGUiOiIyMDE4MDcyMzAwMDAiLCJ0b0RhdGUiOiIyMDE4MDkyMzAwMDAiLCJuZXh0IjoiMjAxODA5MjMwMDAwMDAtMTA0MTcxMDU0MDg5OTI4Mjk0NC0wIn0=\n",
      "dict_keys(['results', 'next', 'requestParameters'])\n",
      "got 100 results\n",
      "Next: eyJhdXRoZW50aWNpdHkiOiJkNmZiMGE1M2U1OTg2NmUzMmU5NWUxOTQwOTljOTZmNzk3NTQzYmU3Mjg1NmIyNjExNzFiMDgxYTcwZmU4YjFmIiwiZnJvbURhdGUiOiIyMDE4MDcyMzAwMDAiLCJ0b0RhdGUiOiIyMDE4MDkyMzAwMDAiLCJuZXh0IjoiMjAxODA5MjMwMDAwMDAtMTA0MDgwMjgzMzg5NTk2MDU3Ny0wIn0=\n",
      "dict_keys(['results', 'next', 'requestParameters'])\n",
      "got 97 results\n",
      "Next: eyJhdXRoZW50aWNpdHkiOiIxNDMwMTY3N2IxYWFhYzY4MDU1Y2Y3ODBhM2JmZDk4NjAwZDA0ZDVkNmQ5YzljZGFiYTEyYWNlZGUyMTllNmUyIiwiZnJvbURhdGUiOiIyMDE4MDcyMzAwMDAiLCJ0b0RhdGUiOiIyMDE4MDkyMzAwMDAiLCJuZXh0IjoiMjAxODA5MjMwMDAwMDAtMTA0MDU4ODY2NjI4Njk0ODM1Mi0wIn0=\n",
      "dict_keys(['results', 'next', 'requestParameters'])\n",
      "got 100 results\n",
      "Next: eyJhdXRoZW50aWNpdHkiOiJhMjBkZjExMzJlODEyODNiYmVlYmJiYjk3NjU0YzE5OTJmZThmMTI0YjI3NjI2N2RlYTYwYTE2MzEwMTRhNWQ1IiwiZnJvbURhdGUiOiIyMDE4MDcyMzAwMDAiLCJ0b0RhdGUiOiIyMDE4MDkyMzAwMDAiLCJuZXh0IjoiMjAxODA5MjMwMDAwMDAtMTA0MDMwNzExNTczMzIwOTA4OS0wIn0=\n",
      "dict_keys(['results', 'next', 'requestParameters'])\n",
      "got 100 results\n",
      "Next: eyJhdXRoZW50aWNpdHkiOiJkNTc0NDM2ODg5YzllYzIzNDIyNDVlNDRkYmEzZjYzMWUyMWYwN2NkYTZhZGUxN2M0MTk5M2I0OGM1Y2FkNDAzIiwiZnJvbURhdGUiOiIyMDE4MDcyMzAwMDAiLCJ0b0RhdGUiOiIyMDE4MDkyMzAwMDAiLCJuZXh0IjoiMjAxODA5MjMwMDAwMDAtMTAzOTczNzc3MjI2Mzg1NDA4NC0wIn0=\n",
      "dict_keys(['results', 'next', 'requestParameters'])\n",
      "got 100 results\n",
      "Next: eyJhdXRoZW50aWNpdHkiOiI4MmI2ZjdmMzY2MTAwMTFiZjY0NGM1NGJmYzJiN2IxOTNlMzAwM2RiZjRmN2JmMjA3YzFjMDIwM2U5MWQzNWQyIiwiZnJvbURhdGUiOiIyMDE4MDcyMzAwMDAiLCJ0b0RhdGUiOiIyMDE4MDkyMzAwMDAiLCJuZXh0IjoiMjAxODA5MjMwMDAwMDAtMTAzOTE5NjE3MTMwOTIxOTg0Mi0wIn0=\n",
      "dict_keys(['results', 'next', 'requestParameters'])\n",
      "got 100 results\n",
      "Next: eyJhdXRoZW50aWNpdHkiOiI4YjdmNjMzY2RjMmZjMGQ3ZWNmZTY5MTljYjk1YzljZjhlNzZiOTM3YWVkNjU3MjcwNTQwMDA5Yjk1NzJiYTFhIiwiZnJvbURhdGUiOiIyMDE4MDcyMzAwMDAiLCJ0b0RhdGUiOiIyMDE4MDkyMzAwMDAiLCJuZXh0IjoiMjAxODA5MjMwMDAwMDAtMTAzODUxOTI4ODYyNDI0MjY4OS0wIn0=\n",
      "dict_keys(['results', 'next', 'requestParameters'])\n",
      "got 100 results\n",
      "Next: eyJhdXRoZW50aWNpdHkiOiI3ZjI4NTQwODlhYTZmMmRmYTZiZmNlNTVjNDE4YTM2ZTAwNGZjNmRlYjZiZjhjNmRkOGRmM2ZkMGY1NjdkNjVmIiwiZnJvbURhdGUiOiIyMDE4MDcyMzAwMDAiLCJ0b0RhdGUiOiIyMDE4MDkyMzAwMDAiLCJuZXh0IjoiMjAxODA5MjMwMDAwMDAtMTAzODE4ODk0MTM1MzA4Mjg4Ny0wIn0=\n",
      "dict_keys(['results', 'next', 'requestParameters'])\n",
      "got 100 results\n",
      "Next: eyJhdXRoZW50aWNpdHkiOiI1NjI3ZTMyNzZmZjM0OTdhNGM1MzY2MTU1NjZkOTA2Yzc5MzRlZWE4ZWZhODdlYTRjNTAwNWE3YmVlZGFjYjYxIiwiZnJvbURhdGUiOiIyMDE4MDcyMzAwMDAiLCJ0b0RhdGUiOiIyMDE4MDkyMzAwMDAiLCJuZXh0IjoiMjAxODA5MjMwMDAwMDAtMTAzNzkzNjgxNDUxMjcxNzgyNC0wIn0=\n",
      "dict_keys(['results', 'next', 'requestParameters'])\n",
      "got 100 results\n",
      "Next: eyJhdXRoZW50aWNpdHkiOiJiNjI0ZDg5ZjRjZDdiMWZlOGZhZjAyY2MzNDFlYTA4YTg0ZDk4YjhiMWM1ODYzZGVjZGU2NTIwYThhMTY3OWUxIiwiZnJvbURhdGUiOiIyMDE4MDcyMzAwMDAiLCJ0b0RhdGUiOiIyMDE4MDkyMzAwMDAiLCJuZXh0IjoiMjAxODA5MjMwMDAwMDAtMTAzNzc3NjI3OTAxMTg4MDk2MC0wIn0=\n",
      "dict_keys(['results', 'next', 'requestParameters'])\n",
      "got 100 results\n",
      "Next: eyJhdXRoZW50aWNpdHkiOiIyNjQ1MDg4MTk0MGNiN2IwMWU0ZTYyYWI2ZTFjZGNlYjc3MjhiMDU2M2E4YjI0YjEzY2UwNzQ4ZDU3MGY5ZWQ5IiwiZnJvbURhdGUiOiIyMDE4MDcyMzAwMDAiLCJ0b0RhdGUiOiIyMDE4MDkyMzAwMDAiLCJuZXh0IjoiMjAxODA5MjMwMDAwMDAtMTAzNzU3ODc4MTY0MzQ2ODgwMC0wIn0=\n",
      "dict_keys(['results', 'next', 'requestParameters'])\n",
      "got 100 results\n",
      "Next: eyJhdXRoZW50aWNpdHkiOiJhZDE4Yjc2MjdhOTBkNWM1N2VjYjVhYzkwODRiZDYwMmQ1ZWMyOGM0NzVmODA3MDFhYjI3NDAxYTVhZjY2NjA2IiwiZnJvbURhdGUiOiIyMDE4MDcyMzAwMDAiLCJ0b0RhdGUiOiIyMDE4MDkyMzAwMDAiLCJuZXh0IjoiMjAxODA5MjMwMDAwMDAtMTAzNzM5MzE4Nzg4MTYwNzE2OC0wIn0=\n",
      "dict_keys(['results', 'next', 'requestParameters'])\n",
      "got 100 results\n",
      "Next: eyJhdXRoZW50aWNpdHkiOiI4MTFhNGYwZmJjMzRjMWM5YjMyNGIzYmRkYzQzZTg1OGNjNmZlOTFkZGQ0YjQ1NGQxY2E0YTNiZTcyZDFjZGNlIiwiZnJvbURhdGUiOiIyMDE4MDcyMzAwMDAiLCJ0b0RhdGUiOiIyMDE4MDkyMzAwMDAiLCJuZXh0IjoiMjAxODA5MjMwMDAwMDAtMTAzNzA5NzIwOTQ3NTU1NTMzMC0wIn0=\n",
      "dict_keys(['results', 'next', 'requestParameters'])\n",
      "got 100 results\n",
      "Next: eyJhdXRoZW50aWNpdHkiOiI0NWNiODdiNDFmN2VmMTQ0MGJkNDQ2NDNlYmE2MTVhNTU2YWJiNGU1NmM5ZmUyYmMzNWZkYzQ0MGY3Mjg4Zjk5IiwiZnJvbURhdGUiOiIyMDE4MDcyMzAwMDAiLCJ0b0RhdGUiOiIyMDE4MDkyMzAwMDAiLCJuZXh0IjoiMjAxODA5MjMwMDAwMDAtMTAzNjg1NDI4MTgwNTIyMTg4OS0wIn0=\n",
      "dict_keys(['results', 'next', 'requestParameters'])\n",
      "got 100 results\n",
      "Next: eyJhdXRoZW50aWNpdHkiOiI1Mzc0ZDQ0ZDYxMDFlZmU0YjY0MWZhNGRlZmY4ODc3M2IzZTcwMzcwYjhiZjNjMjhkODM5YzRiYTRhOWJiOTJiIiwiZnJvbURhdGUiOiIyMDE4MDcyMzAwMDAiLCJ0b0RhdGUiOiIyMDE4MDkyMzAwMDAiLCJuZXh0IjoiMjAxODA5MjMwMDAwMDAtMTAzNjU4OTY2NzIwODk0NTY2NC0wIn0=\n",
      "dict_keys(['results', 'next', 'requestParameters'])\n",
      "got 99 results\n",
      "Next: eyJhdXRoZW50aWNpdHkiOiJmMTkyNjNjNGRkZGNiNzZlNGFiM2M2MGNkY2RmYzVhZGQ2MjY1NmFlZDdlZGE3MzJiMmY1ZjNjNDgzZmQ2NWJhIiwiZnJvbURhdGUiOiIyMDE4MDcyMzAwMDAiLCJ0b0RhdGUiOiIyMDE4MDkyMzAwMDAiLCJuZXh0IjoiMjAxODA5MjMwMDAwMDAtMTAzNjMxNDcxNTA2NzAxOTI2NC0wIn0=\n",
      "dict_keys(['results', 'next', 'requestParameters'])\n",
      "got 98 results\n",
      "Next: eyJhdXRoZW50aWNpdHkiOiIxYTZjY2Q2NjczN2RlOWE1MWFjMWIyMGM3MzlkMjA3ODc3YzM2ZmY3ZmMwN2JhMTk4YzVkMjI5ODY1ZTU0ZmJiIiwiZnJvbURhdGUiOiIyMDE4MDcyMzAwMDAiLCJ0b0RhdGUiOiIyMDE4MDkyMzAwMDAiLCJuZXh0IjoiMjAxODA5MjMwMDAwMDAtMTAzNTk5OTg4NjczMzI2Njk0NC0wIn0=\n",
      "dict_keys(['results', 'next', 'requestParameters'])\n",
      "got 100 results\n",
      "Next: eyJhdXRoZW50aWNpdHkiOiI4YzVkMWFhM2IwOTkxM2JmMWQ0NDg0Nzk5YzViNGUxMWVkNDkxYTFhNTgzZjRmY2ExODFkMzZlNGQ1ZDk5YTEzIiwiZnJvbURhdGUiOiIyMDE4MDcyMzAwMDAiLCJ0b0RhdGUiOiIyMDE4MDkyMzAwMDAiLCJuZXh0IjoiMjAxODA5MjMwMDAwMDAtMTAzNTg4Mzg0OTYzOTU1MDk3Ni0wIn0=\n",
      "dict_keys(['results', 'next', 'requestParameters'])\n",
      "got 100 results\n",
      "Next: eyJhdXRoZW50aWNpdHkiOiJkMDIwNTA2ZDc2YjE4YzIyNzRlNTAxZmIyZGY5YzQ3NjFiZmQwOGZmYmRkNGE1MTJjYTJkN2FhMTkzOGZhYzQyIiwiZnJvbURhdGUiOiIyMDE4MDcyMzAwMDAiLCJ0b0RhdGUiOiIyMDE4MDkyMzAwMDAiLCJuZXh0IjoiMjAxODA5MjMwMDAwMDAtMTAzNTcxNjIxMDMzNDEyNjA4MS0wIn0=\n"
     ]
    }
   ],
   "source": [
    "results = []\n",
    "# used above functions\n",
    "# 4000 is the number of the tweets we gonna get\n",
    "test_results = search_tweets(api, params, 4000)"
   ]
  },
  {
   "cell_type": "code",
   "execution_count": 49,
   "metadata": {},
   "outputs": [],
   "source": [
    "# Info pulled from tweets\n",
    "USEFUL_INFO_KEYS = ['created_at', 'text', 'longitute', 'latitute', 'retweet_count', 'favorite_count', 'hashtags']\n",
    "\n",
    "def extract_tweets(tweets):\n",
    "    result = []\n",
    "    for tweet in tweets:\n",
    "        info = {}\n",
    "        for key in USEFUL_INFO_KEYS:\n",
    "            if key == 'hashtags':\n",
    "                info[key] = [i['text'] for i in tweet['entities']['hashtags']]\n",
    "            elif key == 'longitute':\n",
    "                try:\n",
    "                    info[key] = tweet['coordinates']['coordinates'][0]\n",
    "                except TypeError:\n",
    "                    pass\n",
    "            elif key == 'latitute':\n",
    "                try:\n",
    "                    info[key] = tweet['coordinates']['coordinates'][1]\n",
    "                except TypeError:\n",
    "                    pass\n",
    "            else:\n",
    "                info[key] = tweet[key]\n",
    "        result.append(info)\n",
    "    return result"
   ]
  },
  {
   "cell_type": "code",
   "execution_count": 50,
   "metadata": {},
   "outputs": [],
   "source": [
    "# convert results into dataframe\n",
    "extracted_test = extract_tweets(test_results)\n",
    "carr_fire_2 = pd.DataFrame(extracted_test)"
   ]
  },
  {
   "cell_type": "code",
   "execution_count": 51,
   "metadata": {},
   "outputs": [],
   "source": [
    "# export to csv\n",
    "carr_fire_2.to_csv('carr_fire_2.csv', index=False)"
   ]
  },
  {
   "cell_type": "code",
   "execution_count": 53,
   "metadata": {},
   "outputs": [
    {
     "data": {
      "text/plain": [
       "(2093, 7)"
      ]
     },
     "execution_count": 53,
     "metadata": {},
     "output_type": "execute_result"
    }
   ],
   "source": [
    "carr_fire_2.shape"
   ]
  },
  {
   "cell_type": "code",
   "execution_count": null,
   "metadata": {},
   "outputs": [],
   "source": []
  }
 ],
 "metadata": {
  "kernelspec": {
   "display_name": "Python 3",
   "language": "python",
   "name": "python3"
  },
  "language_info": {
   "codemirror_mode": {
    "name": "ipython",
    "version": 3
   },
   "file_extension": ".py",
   "mimetype": "text/x-python",
   "name": "python",
   "nbconvert_exporter": "python",
   "pygments_lexer": "ipython3",
   "version": "3.7.3"
  }
 },
 "nbformat": 4,
 "nbformat_minor": 2
}
